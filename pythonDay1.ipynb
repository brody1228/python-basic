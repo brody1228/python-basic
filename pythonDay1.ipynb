{
  "nbformat": 4,
  "nbformat_minor": 0,
  "metadata": {
    "colab": {
      "name": "pythonDay1.ipynb",
      "provenance": [],
      "collapsed_sections": [],
      "authorship_tag": "ABX9TyMR+rzjiuT8CD/enou8A0no",
      "include_colab_link": true
    },
    "kernelspec": {
      "name": "python3",
      "display_name": "Python 3"
    },
    "language_info": {
      "name": "python"
    }
  },
  "cells": [
    {
      "cell_type": "markdown",
      "metadata": {
        "id": "view-in-github",
        "colab_type": "text"
      },
      "source": [
        "<a href=\"https://colab.research.google.com/github/brody1228/python-basic/blob/main/pythonDay1.ipynb\" target=\"_parent\"><img src=\"https://colab.research.google.com/assets/colab-badge.svg\" alt=\"Open In Colab\"/></a>"
      ]
    },
    {
      "cell_type": "code",
      "execution_count": null,
      "metadata": {
        "colab": {
          "base_uri": "https://localhost:8080/"
        },
        "id": "c7Zsjsfdc3E1",
        "outputId": "ca9ae2a7-a874-4ed2-f237-e805975b1dfb"
      },
      "outputs": [
        {
          "output_type": "stream",
          "name": "stdout",
          "text": [
            "hello world\n"
          ]
        }
      ],
      "source": [
        "passprint('hello world')"
      ]
    },
    {
      "cell_type": "code",
      "source": [
        ""
      ],
      "metadata": {
        "id": "ULqOh0c5Kgxr"
      },
      "execution_count": null,
      "outputs": []
    },
    {
      "cell_type": "code",
      "source": [
        ""
      ],
      "metadata": {
        "id": "9E_ScYxtquUj"
      },
      "execution_count": null,
      "outputs": []
    },
    {
      "cell_type": "code",
      "source": [
        "#파이썬이란??\n",
        "# Guido van Rossum\n",
        "# 1. 인터 프리터 언어이다. 한줄한줄 실행한 결과를 바로바로 볼 수 있다.\n",
        "# 2. 플랫폼에 독립적이다. 맥 윈도우 리눅스 ... 전부 같은 파이썬 코드를 사용 할 수 있다.\n",
        "# 3. 객체지향 언어이다. 객체를 기반으로 정보은익 상속 등등의 개념을 지원한다.\n",
        "# 4. 동적 타이핑 언어이다. 실행 중에 처리할 수 있는 작업을 동적 작업이라고 하고 파이썬은 이 것을 지원한다.\n",
        "# 5. 개발 속도가 빠르다. 이미 만들어 놓은 다양한 라이브러리를 사용하여 빠르게 새로운 프로그램을 개발 할 수 있다.\n",
        "\n",
        "# 주석 comment \n",
        "# 프로그램의 소스 코드에 설명을 작성하는 부분을 주석이라고 한다.\n",
        "# DocString ''' 코드 설명 '''\n",
        "\n",
        "\n",
        "'''\n",
        "여러줄1\n",
        "여러줄2\n",
        "여러줄3\n",
        "'''\n",
        "\"\"\"\n",
        "\"\"\"\n",
        "\n",
        "\n"
      ],
      "metadata": {
        "id": "C6cYvKtVeE1L"
      },
      "execution_count": null,
      "outputs": []
    },
    {
      "cell_type": "code",
      "source": [
        "'''\n",
        "파일명: Ex02-1.py\n",
        "개요: 반지름을 전달하면 원의 넓이를 반환하는 get_area()함수\n",
        "작성자: 홍길동\n",
        "최초작성일: 2020-08-25\n",
        "'''\n",
        "\n",
        "# math 모듈 포함\n",
        "import math\n",
        "\n",
        "# get_area() 함수 정의\n",
        "def get_area(radius):\n",
        "  \"\"\"반지름을 입력받아 원의 넓이를 반환하는 get_area()함수\"\"\"\n",
        "  area= math.pi *math.pow(radius, 2)\n",
        "  return area\n",
        "  \n",
        "  radius = 1.5\n",
        "  #get_area() 함수 호출 결과를 area 변수에 저장\n",
        "  area = get_area(radius)\n",
        "  print(area)\n",
        "  print (get_area.__doc__) # Docstring 확인\n"
      ],
      "metadata": {
        "id": "SCI-3UfJo9Xo"
      },
      "execution_count": null,
      "outputs": []
    },
    {
      "cell_type": "code",
      "source": [
        ""
      ],
      "metadata": {
        "id": "AqjEbclPzEfK"
      },
      "execution_count": null,
      "outputs": []
    },
    {
      "cell_type": "code",
      "source": [
        "# 코드 위에 주석 달기\n",
        "print('Hello World') # 코드 오른쪽에 주석 달기"
      ],
      "metadata": {
        "id": "kFeL_fYmrMCQ"
      },
      "execution_count": null,
      "outputs": []
    },
    {
      "cell_type": "code",
      "source": [
        "# 변수...\n",
        "# variable 어떤 데이터를 저장 할 때 사용하는 메모리 저장소이다.\n",
        "\n",
        "score = 100\n",
        "\n",
        "print(100)\n",
        "print(score)\n",
        "\n",
        "# 변수명 만드는 규칙 \n",
        "\n",
        "# 1 영문 한글 숫자 밑줄로 구성된다. (한글은 하용하지 말자)\n",
        "# 2 특수문자는 사용 할 수 없다 @#$%^&*\n",
        "# 3 대문자와 소문자를 구분한다. a = 1 A = 2\n",
        "# 4 변수명의 첫 글자에는 숫자가 올 수 없다. a1 = 1 (o) 1a = 2(x)\n",
        "# 5 예약어, 키워드는 변수명으로 사용 할 수 없다.\n",
        "\n",
        "# * 가급적이면 소문자로만 만들자\n",
        "# * 한글 변수명은 가능하지만 사용하지 말자\n",
        "# * 변수명에 의미를 담자. a = 85 보다는 mathscore = 85\n"
      ],
      "metadata": {
        "colab": {
          "base_uri": "https://localhost:8080/"
        },
        "id": "84fWFDz6ra1U",
        "outputId": "294a51e2-c708-48eb-bac2-d52ed6ffc1eb"
      },
      "execution_count": null,
      "outputs": [
        {
          "output_type": "stream",
          "name": "stdout",
          "text": [
            "100\n",
            "100\n"
          ]
        }
      ]
    },
    {
      "cell_type": "code",
      "source": [
        "name = 'Alice'\n",
        "age= 25\n",
        "address= '''우편번호 12345\n",
        "서울시 영등포구 여의도동\n",
        "서울빌딩 501호'''\n",
        "boyfriend = None\n",
        "height = 168.5\n",
        "\n",
        "print(name)\n",
        "print(age)\n",
        "print(address) \n",
        "print(boyfriend)\n",
        "print(height)\n"
      ],
      "metadata": {
        "colab": {
          "base_uri": "https://localhost:8080/"
        },
        "id": "whFVgFp4uvWK",
        "outputId": "12caaeff-ed40-4291-d286-a2b9410c681c"
      },
      "execution_count": null,
      "outputs": [
        {
          "output_type": "stream",
          "name": "stdout",
          "text": [
            "Alice\n",
            "25\n",
            "우편번호 12345\n",
            "서울시 영등포구 여의도동\n",
            "서울빌딩 501호\n",
            "None\n",
            "168.5\n"
          ]
        }
      ]
    },
    {
      "cell_type": "code",
      "source": [
        ""
      ],
      "metadata": {
        "id": "4hu2T2RcwXMU"
      },
      "execution_count": null,
      "outputs": []
    },
    {
      "cell_type": "code",
      "source": [
        "a = 1\n",
        "A = 2\n",
        "print(a)\n",
        "print(A)"
      ],
      "metadata": {
        "colab": {
          "base_uri": "https://localhost:8080/"
        },
        "id": "bHiKb4lqtSsw",
        "outputId": "ec5c6909-5fc4-4cbc-e26b-6f9b2cdaccf5"
      },
      "execution_count": null,
      "outputs": [
        {
          "output_type": "stream",
          "name": "stdout",
          "text": [
            "1\n",
            "2\n"
          ]
        }
      ]
    },
    {
      "cell_type": "code",
      "source": [
        "# 기본 자료형\n",
        "\n",
        "a = 3\n",
        "print(a)\n",
        "a = 3.14\n",
        "print(a)\n",
        "a = 'hello'\n",
        "print(a)\n"
      ],
      "metadata": {
        "colab": {
          "base_uri": "https://localhost:8080/"
        },
        "id": "mhLJ3MwTzHDd",
        "outputId": "470aba17-e034-4c77-a27f-4a9cc73522f3"
      },
      "execution_count": null,
      "outputs": [
        {
          "output_type": "stream",
          "name": "stdout",
          "text": [
            "3\n",
            "3.14\n",
            "hello\n"
          ]
        }
      ]
    },
    {
      "cell_type": "code",
      "source": [
        "int(1.9)"
      ],
      "metadata": {
        "colab": {
          "base_uri": "https://localhost:8080/"
        },
        "id": "UCctq7j5z64s",
        "outputId": "a6737a26-1a5e-4fe8-b5e6-e782a582a6dd"
      },
      "execution_count": null,
      "outputs": [
        {
          "output_type": "execute_result",
          "data": {
            "text/plain": [
              "1"
            ]
          },
          "metadata": {},
          "execution_count": 19
        }
      ]
    },
    {
      "cell_type": "code",
      "source": [
        "int('100')"
      ],
      "metadata": {
        "colab": {
          "base_uri": "https://localhost:8080/"
        },
        "id": "JG6Wo2oR0GXg",
        "outputId": "c20a8ee1-d8ce-4569-fd89-1d62fe36e382"
      },
      "execution_count": null,
      "outputs": [
        {
          "output_type": "execute_result",
          "data": {
            "text/plain": [
              "100"
            ]
          },
          "metadata": {},
          "execution_count": 21
        }
      ]
    },
    {
      "cell_type": "code",
      "source": [
        "int(True)"
      ],
      "metadata": {
        "colab": {
          "base_uri": "https://localhost:8080/"
        },
        "id": "z_qs-71U0POX",
        "outputId": "2a32bf26-2b5a-4717-c639-4c8c9d750249"
      },
      "execution_count": null,
      "outputs": [
        {
          "output_type": "execute_result",
          "data": {
            "text/plain": [
              "1"
            ]
          },
          "metadata": {},
          "execution_count": 24
        }
      ]
    },
    {
      "cell_type": "code",
      "source": [
        "int(False)"
      ],
      "metadata": {
        "colab": {
          "base_uri": "https://localhost:8080/"
        },
        "id": "Eoqpkmz-0aKB",
        "outputId": "487cea2c-79b1-4a02-e4d2-64b714e654cd"
      },
      "execution_count": null,
      "outputs": [
        {
          "output_type": "execute_result",
          "data": {
            "text/plain": [
              "0"
            ]
          },
          "metadata": {},
          "execution_count": 26
        }
      ]
    },
    {
      "cell_type": "code",
      "source": [
        "# 실수 float\n",
        "\n",
        "float(1)"
      ],
      "metadata": {
        "colab": {
          "base_uri": "https://localhost:8080/"
        },
        "id": "14f3JXfw0eqE",
        "outputId": "d42a58ce-3f90-4620-87d5-6782ff9091fd"
      },
      "execution_count": null,
      "outputs": [
        {
          "output_type": "execute_result",
          "data": {
            "text/plain": [
              "1.0"
            ]
          },
          "metadata": {},
          "execution_count": 28
        }
      ]
    },
    {
      "cell_type": "code",
      "source": [
        "float(True) #형 변환"
      ],
      "metadata": {
        "colab": {
          "base_uri": "https://localhost:8080/"
        },
        "id": "TWiUpUo70sFs",
        "outputId": "6361c9ec-9dbc-4f36-be68-992ab419b6b0"
      },
      "execution_count": null,
      "outputs": [
        {
          "output_type": "execute_result",
          "data": {
            "text/plain": [
              "1.0"
            ]
          },
          "metadata": {},
          "execution_count": 30
        }
      ]
    },
    {
      "cell_type": "code",
      "source": [
        "float(False)"
      ],
      "metadata": {
        "colab": {
          "base_uri": "https://localhost:8080/"
        },
        "id": "VruEl5oK0xQb",
        "outputId": "93586ff4-6611-4375-829b-1666eb203b49"
      },
      "execution_count": null,
      "outputs": [
        {
          "output_type": "execute_result",
          "data": {
            "text/plain": [
              "0.0"
            ]
          },
          "metadata": {},
          "execution_count": 32
        }
      ]
    },
    {
      "cell_type": "code",
      "source": [
        "# 논리\n",
        "\n",
        "bool(10)"
      ],
      "metadata": {
        "colab": {
          "base_uri": "https://localhost:8080/"
        },
        "id": "R5N90glZ04hG",
        "outputId": "20c71f94-5e6d-4702-ed1e-15280b473753"
      },
      "execution_count": null,
      "outputs": [
        {
          "output_type": "execute_result",
          "data": {
            "text/plain": [
              "True"
            ]
          },
          "metadata": {},
          "execution_count": 34
        }
      ]
    },
    {
      "cell_type": "code",
      "source": [
        "bool(1)"
      ],
      "metadata": {
        "colab": {
          "base_uri": "https://localhost:8080/"
        },
        "id": "yLBub2TH1AyA",
        "outputId": "bfc052dc-b206-4d8f-fd59-395e8d5a9c22"
      },
      "execution_count": null,
      "outputs": [
        {
          "output_type": "execute_result",
          "data": {
            "text/plain": [
              "True"
            ]
          },
          "metadata": {},
          "execution_count": 36
        }
      ]
    },
    {
      "cell_type": "code",
      "source": [
        "bool(0)"
      ],
      "metadata": {
        "colab": {
          "base_uri": "https://localhost:8080/"
        },
        "id": "d1l21ATG1Fs2",
        "outputId": "25c1f65a-e7ca-4746-8417-3d5a2579b8bc"
      },
      "execution_count": null,
      "outputs": [
        {
          "output_type": "execute_result",
          "data": {
            "text/plain": [
              "False"
            ]
          },
          "metadata": {},
          "execution_count": 38
        }
      ]
    },
    {
      "cell_type": "code",
      "source": [
        "# 문자열 str\n",
        "\n",
        "str(100)"
      ],
      "metadata": {
        "colab": {
          "base_uri": "https://localhost:8080/",
          "height": 35
        },
        "id": "XV2jDVXg1Jca",
        "outputId": "32f61dc0-b35e-4db4-c4d2-136f11f8b119"
      },
      "execution_count": null,
      "outputs": [
        {
          "output_type": "execute_result",
          "data": {
            "text/plain": [
              "'100'"
            ],
            "application/vnd.google.colaboratory.intrinsic+json": {
              "type": "string"
            }
          },
          "metadata": {},
          "execution_count": 40
        }
      ]
    },
    {
      "cell_type": "code",
      "source": [
        "str(True)"
      ],
      "metadata": {
        "colab": {
          "base_uri": "https://localhost:8080/",
          "height": 35
        },
        "id": "dL0uJI961W_9",
        "outputId": "ff671c4b-2e2c-4c40-e2e3-ba5844271c24"
      },
      "execution_count": null,
      "outputs": [
        {
          "output_type": "execute_result",
          "data": {
            "text/plain": [
              "'True'"
            ],
            "application/vnd.google.colaboratory.intrinsic+json": {
              "type": "string"
            }
          },
          "metadata": {},
          "execution_count": 42
        }
      ]
    },
    {
      "cell_type": "code",
      "source": [
        "str(3.1) #다운표로 되면 문자열로 인식한다"
      ],
      "metadata": {
        "colab": {
          "base_uri": "https://localhost:8080/",
          "height": 35
        },
        "id": "RmDxKrsP1c6D",
        "outputId": "422761ec-9f07-4eca-baed-68e3649229e2"
      },
      "execution_count": null,
      "outputs": [
        {
          "output_type": "execute_result",
          "data": {
            "text/plain": [
              "'3.1'"
            ],
            "application/vnd.google.colaboratory.intrinsic+json": {
              "type": "string"
            }
          },
          "metadata": {},
          "execution_count": 44
        }
      ]
    },
    {
      "cell_type": "code",
      "source": [
        "# 인덱싱 몇번째 한글자\n",
        "\n",
        "s = 'Hello'\n",
        "s[0]\n",
        "\n",
        "# H e l l o\n",
        "# 0 1 2 3 4 index\n",
        "#-5-4-3-2-1"
      ],
      "metadata": {
        "colab": {
          "base_uri": "https://localhost:8080/",
          "height": 35
        },
        "id": "dwT7EOCi1lcG",
        "outputId": "7be166ec-1fae-41ca-fcae-e1623da3952d"
      },
      "execution_count": null,
      "outputs": [
        {
          "output_type": "execute_result",
          "data": {
            "text/plain": [
              "'H'"
            ],
            "application/vnd.google.colaboratory.intrinsic+json": {
              "type": "string"
            }
          },
          "metadata": {},
          "execution_count": 47
        }
      ]
    },
    {
      "cell_type": "code",
      "source": [
        "s[-4] "
      ],
      "metadata": {
        "colab": {
          "base_uri": "https://localhost:8080/",
          "height": 35
        },
        "id": "G7Oo8i8r2i7c",
        "outputId": "678fe4fb-24ed-4988-a6fe-e3dc4e513cff"
      },
      "execution_count": null,
      "outputs": [
        {
          "output_type": "execute_result",
          "data": {
            "text/plain": [
              "'e'"
            ],
            "application/vnd.google.colaboratory.intrinsic+json": {
              "type": "string"
            }
          },
          "metadata": {},
          "execution_count": 50
        }
      ]
    },
    {
      "cell_type": "code",
      "source": [
        "# 슬라이싱 몇번째부터 몇번째까지(미만) 여러 글자\n",
        "s = 'hello'\n",
        "#s[0:2] #[시작:끝(미만)]\n",
        "#s[0:] # 끝을 생략하면 끝까지 나온다\n",
        "#s[:-1] #시작을 생략하면 처음부터 나온다\n"
      ],
      "metadata": {
        "colab": {
          "base_uri": "https://localhost:8080/",
          "height": 35
        },
        "id": "pAbOvHsv3ad8",
        "outputId": "2a6e8a75-b692-4c5e-f0fb-bbd35ef912ba"
      },
      "execution_count": null,
      "outputs": [
        {
          "output_type": "execute_result",
          "data": {
            "text/plain": [
              "'hell'"
            ],
            "application/vnd.google.colaboratory.intrinsic+json": {
              "type": "string"
            }
          },
          "metadata": {},
          "execution_count": 54
        }
      ]
    },
    {
      "cell_type": "code",
      "source": [
        "print('Hello World')\n",
        "# 5자리로 구성 된 학번 '31025' 을\n",
        "# 학년 반, 번호 로 분리해보자\n",
        "\n",
        "# 3\n",
        "# 10\n",
        "# 25\n",
        "\n",
        "no ='31025' #예시로 no 한글없이,소문자로 변수로 하자\n",
        "print(no[3:])\n",
        "print(no[0])\n",
        "print(no[1:3])"
      ],
      "metadata": {
        "id": "Tut0gVtV9YWF"
      },
      "execution_count": null,
      "outputs": []
    },
    {
      "cell_type": "code",
      "source": [
        "# 다음 수업\n",
        "\n",
        "# list tuple Dict set (자료형을 이해하게 만들어 준다) "
      ],
      "metadata": {
        "id": "PpEj9SFJ9bfv"
      },
      "execution_count": null,
      "outputs": []
    },
    {
      "cell_type": "code",
      "source": [
        "# p.39 p.47 컬렉션 \n",
        "\n",
        "# 모음 -여러 값을 하나의 이름으로 묶어서 관리하는 자료형 p.47\n",
        "\n",
        "\n",
        "# 리스트 (***) [] 추가/수정/삭제 가능 mutable      인덱싱/슬라이싱 가능\n",
        "# 튜플         () 추가/수정/삭제 불가능 immutable  인덱싱/슬라이싱 가능 , 실수 다른 언어도 가능\n",
        "# 딕셔너리     {} 추가/수정/삭제 가능 mutable      인덱싱/슬라이싱 불가능, 순서가 없다.\n",
        "# 셋           {} 추가/수정/삭제 가능 mutable      인덱싱/슬라이싱 불가능, 순서가 없다.\n",
        "\n",
        "\n",
        "# 리스트 - 가장 많이 사용하는 자료형이다. 자료형이 다른 데이터들도 함께 저장 할 수 있다.\n",
        "\n",
        "\n",
        "li1 =  [1,2,3,4]\n",
        "print(li1)\n",
        "\n",
        "li2 = [2,3.14, 'hello']\n",
        "print(li2)"
      ],
      "metadata": {
        "id": "LfeDVNOXRYSL",
        "colab": {
          "base_uri": "https://localhost:8080/"
        },
        "outputId": "6e0fda77-a6a7-41b3-ef3e-9d00ab698ab0"
      },
      "execution_count": null,
      "outputs": [
        {
          "output_type": "stream",
          "name": "stdout",
          "text": [
            "[1, 2, 3, 4]\n",
            "[2, 3.14, 'hello']\n"
          ]
        }
      ]
    },
    {
      "cell_type": "code",
      "source": [
        "li = [2,3.14, 'hello']\n",
        "li[2]"
      ],
      "metadata": {
        "colab": {
          "base_uri": "https://localhost:8080/",
          "height": 35
        },
        "id": "vatBIWr4tpiQ",
        "outputId": "d4f6459b-47d9-4e57-cf74-d35d4cea32f7"
      },
      "execution_count": null,
      "outputs": [
        {
          "output_type": "execute_result",
          "data": {
            "text/plain": [
              "'hello'"
            ],
            "application/vnd.google.colaboratory.intrinsic+json": {
              "type": "string"
            }
          },
          "metadata": {},
          "execution_count": 3
        }
      ]
    },
    {
      "cell_type": "code",
      "source": [
        "a = \"hello\"\n",
        "a[2]\n",
        "\n",
        "''"
      ],
      "metadata": {
        "id": "8IDmhZd3tWJ9"
      },
      "execution_count": null,
      "outputs": []
    },
    {
      "cell_type": "code",
      "source": [
        "li = [2,3.14, 'hello']\n",
        "li[-2]"
      ],
      "metadata": {
        "colab": {
          "base_uri": "https://localhost:8080/"
        },
        "id": "lz_raAOlt6-j",
        "outputId": "91f60d34-6921-48da-8bdc-1f81049dc3d9"
      },
      "execution_count": null,
      "outputs": [
        {
          "output_type": "execute_result",
          "data": {
            "text/plain": [
              "3.14"
            ]
          },
          "metadata": {},
          "execution_count": 4
        }
      ]
    },
    {
      "cell_type": "code",
      "source": [
        "# (star, stop, step)\n",
        "\n",
        "li = [2,3.14, 'hello']\n",
        "li[0:2]"
      ],
      "metadata": {
        "colab": {
          "base_uri": "https://localhost:8080/"
        },
        "id": "HxOk-tNVuCLM",
        "outputId": "19f15c26-0ecf-4c1f-aaa1-c27e55b4da51"
      },
      "execution_count": null,
      "outputs": [
        {
          "output_type": "execute_result",
          "data": {
            "text/plain": [
              "[2, 3.14]"
            ]
          },
          "metadata": {},
          "execution_count": 6
        }
      ]
    },
    {
      "cell_type": "code",
      "source": [
        "scores = [50,40,30]\n",
        "\n",
        "scores.append(80) #append 어떤 하나을 추가\n",
        "scores\n",
        "\n",
        "scores.insert(0,100)\n",
        "scores\n"
      ],
      "metadata": {
        "colab": {
          "base_uri": "https://localhost:8080/"
        },
        "id": "t-cbDUjIuvd-",
        "outputId": "a911eebc-c92a-45c9-be9b-1ae906375666"
      },
      "execution_count": null,
      "outputs": [
        {
          "output_type": "execute_result",
          "data": {
            "text/plain": [
              "[100, 50, 40, 30, 80]"
            ]
          },
          "metadata": {},
          "execution_count": 20
        }
      ]
    },
    {
      "cell_type": "code",
      "source": [
        "scores.pop ()# 끝에서부터 하나씩\n",
        "80"
      ],
      "metadata": {
        "colab": {
          "base_uri": "https://localhost:8080/"
        },
        "id": "yVtj-Eyiv0QG",
        "outputId": "bf30e771-b21a-419a-c39c-ccd28f850c58"
      },
      "execution_count": null,
      "outputs": [
        {
          "output_type": "execute_result",
          "data": {
            "text/plain": [
              "80"
            ]
          },
          "metadata": {},
          "execution_count": 21
        }
      ]
    },
    {
      "cell_type": "code",
      "source": [
        "scores"
      ],
      "metadata": {
        "colab": {
          "base_uri": "https://localhost:8080/"
        },
        "id": "rIW53nj7vpsw",
        "outputId": "ee1848a6-2e1d-4711-925b-d2acc4410804"
      },
      "execution_count": null,
      "outputs": [
        {
          "output_type": "execute_result",
          "data": {
            "text/plain": [
              "[100, 50, 40, 30]"
            ]
          },
          "metadata": {},
          "execution_count": 22
        }
      ]
    },
    {
      "cell_type": "code",
      "source": [
        "scores.pop(0)"
      ],
      "metadata": {
        "colab": {
          "base_uri": "https://localhost:8080/"
        },
        "id": "RNVYLaBxwHAg",
        "outputId": "c6c99798-7ac2-4a64-f6d4-10445707dd27"
      },
      "execution_count": null,
      "outputs": [
        {
          "output_type": "execute_result",
          "data": {
            "text/plain": [
              "100"
            ]
          },
          "metadata": {},
          "execution_count": 23
        }
      ]
    },
    {
      "cell_type": "code",
      "source": [
        "scores"
      ],
      "metadata": {
        "colab": {
          "base_uri": "https://localhost:8080/"
        },
        "id": "x-u3sacywRsO",
        "outputId": "ea2aa912-66d8-4b6d-cea1-ab89aa385c3c"
      },
      "execution_count": null,
      "outputs": [
        {
          "output_type": "execute_result",
          "data": {
            "text/plain": [
              "[50, 40, 30]"
            ]
          },
          "metadata": {},
          "execution_count": 24
        }
      ]
    },
    {
      "cell_type": "code",
      "source": [
        "# 2. 튜플 - 한마디로 표현하면...수정 할 수 없는 리스트.\n",
        "\n",
        "tu1 = (1,2,3)\n",
        "print(tu1)\n",
        "print(type(tu1))\n",
        "\n",
        "tu2 = 2,3,4 #괄호 생략 가능\n",
        "print(tu2)\n",
        "print(type(tu2))\n",
        "\n",
        "tu3 = 2,3.14,'문자'\n",
        "print(tu3)\n",
        "print(type(tu3))"
      ],
      "metadata": {
        "colab": {
          "base_uri": "https://localhost:8080/"
        },
        "id": "kXhbgQu9wfnA",
        "outputId": "30a90395-9384-4769-cbdf-9eb51e432d16"
      },
      "execution_count": null,
      "outputs": [
        {
          "output_type": "stream",
          "name": "stdout",
          "text": [
            "(1, 2, 3)\n",
            "<class 'tuple'>\n",
            "(2, 3, 4)\n",
            "<class 'tuple'>\n",
            "(2, 3.14, '문자')\n",
            "<class 'tuple'>\n"
          ]
        }
      ]
    },
    {
      "cell_type": "code",
      "source": [
        "미국 같으면 맥을 써라\n",
        "하지만 한국에서는 여전히 윈도우를 많이 쓴다.\n",
        "맥을 싸게 사는 법(강사 홈페이지로 들어가서 )\n",
        "\n",
        "반드시 램 16기가로 해야 한다 8기가 부족하다, 용량 512기가로\n",
        "멕은 에어도 훌룡하다. 그래도 램은 (꼭)16기가에 (부족해)512는 해야 한다\n",
        "\n",
        "맥도 페러럴즈로 하면 위도우로 가능하다"
      ],
      "metadata": {
        "colab": {
          "base_uri": "https://localhost:8080/",
          "height": 136
        },
        "id": "4jzMTSIbzOVY",
        "outputId": "f1b80777-6d59-49d5-8b20-aa5624397e56"
      },
      "execution_count": null,
      "outputs": [
        {
          "output_type": "error",
          "ename": "SyntaxError",
          "evalue": "ignored",
          "traceback": [
            "\u001b[0;36m  File \u001b[0;32m\"<ipython-input-29-513d8b0e8a22>\"\u001b[0;36m, line \u001b[0;32m1\u001b[0m\n\u001b[0;31m    미국 같으면 맥을 써라\u001b[0m\n\u001b[0m         ^\u001b[0m\n\u001b[0;31mSyntaxError\u001b[0m\u001b[0;31m:\u001b[0m invalid syntax\n"
          ]
        }
      ]
    },
    {
      "cell_type": "code",
      "source": [
        "tu = (10,20,30,40,50)\n",
        "tu.append[3] #안된다\n",
        "\n",
        "tu = (10,20,30,40,50)\n",
        "tu[0:3]"
      ],
      "metadata": {
        "colab": {
          "base_uri": "https://localhost:8080/",
          "height": 245
        },
        "id": "NL2UEkuqyv_7",
        "outputId": "586339e2-49e8-40c3-c835-d24c900a6ea7"
      },
      "execution_count": null,
      "outputs": [
        {
          "output_type": "error",
          "ename": "AttributeError",
          "evalue": "ignored",
          "traceback": [
            "\u001b[0;31m---------------------------------------------------------------------------\u001b[0m",
            "\u001b[0;31mAttributeError\u001b[0m                            Traceback (most recent call last)",
            "\u001b[0;32m<ipython-input-34-51dd70ec6bcc>\u001b[0m in \u001b[0;36m<module>\u001b[0;34m()\u001b[0m\n\u001b[1;32m      1\u001b[0m \u001b[0mtu\u001b[0m \u001b[0;34m=\u001b[0m \u001b[0;34m(\u001b[0m\u001b[0;36m10\u001b[0m\u001b[0;34m,\u001b[0m\u001b[0;36m20\u001b[0m\u001b[0;34m,\u001b[0m\u001b[0;36m30\u001b[0m\u001b[0;34m,\u001b[0m\u001b[0;36m40\u001b[0m\u001b[0;34m,\u001b[0m\u001b[0;36m50\u001b[0m\u001b[0;34m)\u001b[0m\u001b[0;34m\u001b[0m\u001b[0;34m\u001b[0m\u001b[0m\n\u001b[0;32m----> 2\u001b[0;31m \u001b[0mtu\u001b[0m\u001b[0;34m.\u001b[0m\u001b[0mappend\u001b[0m\u001b[0;34m[\u001b[0m\u001b[0;36m3\u001b[0m\u001b[0;34m]\u001b[0m\u001b[0;34m\u001b[0m\u001b[0;34m\u001b[0m\u001b[0m\n\u001b[0m\u001b[1;32m      3\u001b[0m \u001b[0;34m\u001b[0m\u001b[0m\n\u001b[1;32m      4\u001b[0m \u001b[0mtu\u001b[0m \u001b[0;34m=\u001b[0m \u001b[0;34m(\u001b[0m\u001b[0;36m10\u001b[0m\u001b[0;34m,\u001b[0m\u001b[0;36m20\u001b[0m\u001b[0;34m,\u001b[0m\u001b[0;36m30\u001b[0m\u001b[0;34m,\u001b[0m\u001b[0;36m40\u001b[0m\u001b[0;34m,\u001b[0m\u001b[0;36m50\u001b[0m\u001b[0;34m)\u001b[0m\u001b[0;34m\u001b[0m\u001b[0;34m\u001b[0m\u001b[0m\n\u001b[1;32m      5\u001b[0m \u001b[0mtu\u001b[0m\u001b[0;34m[\u001b[0m\u001b[0;36m0\u001b[0m\u001b[0;34m:\u001b[0m\u001b[0;36m3\u001b[0m\u001b[0;34m]\u001b[0m\u001b[0;34m\u001b[0m\u001b[0;34m\u001b[0m\u001b[0m\n",
            "\u001b[0;31mAttributeError\u001b[0m: 'tuple' object has no attribute 'append'"
          ]
        }
      ]
    },
    {
      "cell_type": "code",
      "source": [
        "set = {1,2,2,3,3,3} #중복을 제거하는 용도로 쓴다.\n",
        "print(type(set))\n",
        "print(set)"
      ],
      "metadata": {
        "colab": {
          "base_uri": "https://localhost:8080/"
        },
        "id": "XUEVNd5O5VTx",
        "outputId": "df0d8d3f-1084-4b96-9917-0480fd70acea"
      },
      "execution_count": null,
      "outputs": [
        {
          "output_type": "stream",
          "name": "stdout",
          "text": [
            "<class 'set'>\n",
            "{1, 2, 3}\n"
          ]
        }
      ]
    },
    {
      "cell_type": "code",
      "source": [
        "set.add(4)\n",
        "set"
      ],
      "metadata": {
        "colab": {
          "base_uri": "https://localhost:8080/"
        },
        "id": "K7dUdQl05vFZ",
        "outputId": "6e8564c7-61f7-45dc-d3ab-7d157558c019"
      },
      "execution_count": null,
      "outputs": [
        {
          "output_type": "execute_result",
          "data": {
            "text/plain": [
              "{1, 2, 3, 4}"
            ]
          },
          "metadata": {},
          "execution_count": 38
        }
      ]
    },
    {
      "cell_type": "code",
      "source": [
        "set.remove(3)"
      ],
      "metadata": {
        "colab": {
          "base_uri": "https://localhost:8080/",
          "height": 172
        },
        "id": "3H6gcgya543_",
        "outputId": "19c16a9a-916e-4bb7-f3d2-554f8b4d636d"
      },
      "execution_count": null,
      "outputs": [
        {
          "output_type": "error",
          "ename": "KeyError",
          "evalue": "ignored",
          "traceback": [
            "\u001b[0;31m---------------------------------------------------------------------------\u001b[0m",
            "\u001b[0;31mKeyError\u001b[0m                                  Traceback (most recent call last)",
            "\u001b[0;32m<ipython-input-41-c4892ca2c0db>\u001b[0m in \u001b[0;36m<module>\u001b[0;34m()\u001b[0m\n\u001b[0;32m----> 1\u001b[0;31m \u001b[0mset\u001b[0m\u001b[0;34m.\u001b[0m\u001b[0mremove\u001b[0m\u001b[0;34m(\u001b[0m\u001b[0;36m3\u001b[0m\u001b[0;34m)\u001b[0m\u001b[0;34m\u001b[0m\u001b[0;34m\u001b[0m\u001b[0m\n\u001b[0m",
            "\u001b[0;31mKeyError\u001b[0m: 3"
          ]
        }
      ]
    },
    {
      "cell_type": "code",
      "source": [
        ""
      ],
      "metadata": {
        "id": "5_Y270xz6FcS"
      },
      "execution_count": null,
      "outputs": []
    },
    {
      "cell_type": "code",
      "source": [
        "set"
      ],
      "metadata": {
        "colab": {
          "base_uri": "https://localhost:8080/"
        },
        "id": "K6F3Hxu06Af0",
        "outputId": "c46d07c9-56ca-4509-fc57-3e6f40d9c25e"
      },
      "execution_count": null,
      "outputs": [
        {
          "output_type": "execute_result",
          "data": {
            "text/plain": [
              "{1, 2, 4}"
            ]
          },
          "metadata": {},
          "execution_count": 43
        }
      ]
    },
    {
      "cell_type": "code",
      "source": [
        "# 딕셔너리 : 키와 밸류 한 쌍으로 구성 된 자료형이다.\n",
        "dict = {'a':'apple', 'b':'banana'}\n",
        "\n",
        "print(dict)\n",
        "print(type(dict))\n",
        "\n"
      ],
      "metadata": {
        "colab": {
          "base_uri": "https://localhost:8080/"
        },
        "id": "5e59U5MC6G4E",
        "outputId": "bbddd0d3-84ec-490a-8bdc-28a7bd605768"
      },
      "execution_count": null,
      "outputs": [
        {
          "output_type": "stream",
          "name": "stdout",
          "text": [
            "{'a': 'apple', 'b': 'banana'}\n",
            "<class 'dict'>\n"
          ]
        }
      ]
    },
    {
      "cell_type": "code",
      "source": [
        "dict['w']='wateremelon'\n",
        "print(dict)\n",
        "print(type(dict))"
      ],
      "metadata": {
        "colab": {
          "base_uri": "https://localhost:8080/"
        },
        "id": "_ChAMY3W7BFF",
        "outputId": "98f6efd1-5157-4278-8295-9f2680f6a9a1"
      },
      "execution_count": null,
      "outputs": [
        {
          "output_type": "stream",
          "name": "stdout",
          "text": [
            "{'a': 'apple', 'b': 'banana', 'w': 'wateremelon'}\n",
            "<class 'dict'>\n"
          ]
        }
      ]
    },
    {
      "cell_type": "code",
      "source": [
        "dict.pop('a')\n",
        "print(dict)\n",
        "print(type(dict))"
      ],
      "metadata": {
        "colab": {
          "base_uri": "https://localhost:8080/"
        },
        "id": "BmpeuyHO7Xvk",
        "outputId": "78d21a51-03a2-4887-a92a-ebfb14abe014"
      },
      "execution_count": null,
      "outputs": [
        {
          "output_type": "stream",
          "name": "stdout",
          "text": [
            "{'b': 'banana', 'w': 'wateremelon'}\n",
            "<class 'dict'>\n"
          ]
        }
      ]
    },
    {
      "cell_type": "code",
      "source": [
        "dict[0] #인덱싱이 안된다."
      ],
      "metadata": {
        "colab": {
          "base_uri": "https://localhost:8080/",
          "height": 172
        },
        "id": "6JQLOqaV7inE",
        "outputId": "d44266b0-a8ec-4594-9bc0-255f5ce14e71"
      },
      "execution_count": null,
      "outputs": [
        {
          "output_type": "error",
          "ename": "KeyError",
          "evalue": "ignored",
          "traceback": [
            "\u001b[0;31m---------------------------------------------------------------------------\u001b[0m",
            "\u001b[0;31mKeyError\u001b[0m                                  Traceback (most recent call last)",
            "\u001b[0;32m<ipython-input-48-6f3bddff36cb>\u001b[0m in \u001b[0;36m<module>\u001b[0;34m()\u001b[0m\n\u001b[0;32m----> 1\u001b[0;31m \u001b[0mdict\u001b[0m\u001b[0;34m[\u001b[0m\u001b[0;36m0\u001b[0m\u001b[0;34m]\u001b[0m\u001b[0;34m\u001b[0m\u001b[0;34m\u001b[0m\u001b[0m\n\u001b[0m",
            "\u001b[0;31mKeyError\u001b[0m: 0"
          ]
        }
      ]
    },
    {
      "cell_type": "code",
      "source": [
        "me=[1,2,3]\n",
        "id(me)"
      ],
      "metadata": {
        "colab": {
          "base_uri": "https://localhost:8080/"
        },
        "id": "8eVqqFXo7pEb",
        "outputId": "48f82288-a437-42da-a7bb-7a575c1a64fa"
      },
      "execution_count": null,
      "outputs": [
        {
          "output_type": "execute_result",
          "data": {
            "text/plain": [
              "140288559376576"
            ]
          },
          "metadata": {},
          "execution_count": 50
        }
      ]
    },
    {
      "cell_type": "code",
      "source": [
        "me.append(4)\n",
        "print(id(me))\n",
        "print(me)"
      ],
      "metadata": {
        "colab": {
          "base_uri": "https://localhost:8080/"
        },
        "id": "kiQJhOhT850W",
        "outputId": "93017d45-9205-4ec3-ed4a-7d7d577b71d5"
      },
      "execution_count": null,
      "outputs": [
        {
          "output_type": "stream",
          "name": "stdout",
          "text": [
            "140288559376576\n",
            "[1, 2, 3, 4, 4]\n"
          ]
        }
      ]
    },
    {
      "cell_type": "code",
      "source": [
        "me = 10  # 정수\n",
        "print(id(me))"
      ],
      "metadata": {
        "colab": {
          "base_uri": "https://localhost:8080/"
        },
        "id": "6KQXKGPx9UB4",
        "outputId": "e964a5af-0670-4e51-fecd-f7fb04481bc3"
      },
      "execution_count": null,
      "outputs": [
        {
          "output_type": "stream",
          "name": "stdout",
          "text": [
            "94452653112096\n"
          ]
        }
      ]
    },
    {
      "cell_type": "code",
      "source": [
        "me += 1\n",
        "print(id(me))"
      ],
      "metadata": {
        "colab": {
          "base_uri": "https://localhost:8080/"
        },
        "id": "KRjrc_X99jpT",
        "outputId": "c7aae693-fe44-4302-a7ee-7aad53673a4d"
      },
      "execution_count": null,
      "outputs": [
        {
          "output_type": "stream",
          "name": "stdout",
          "text": [
            "94452653112128\n"
          ]
        }
      ]
    },
    {
      "cell_type": "code",
      "source": [
        "me = [1,2,3]\n",
        "\n",
        "you = me\n",
        "\n",
        "print(id(me))\n",
        "print(id(you))"
      ],
      "metadata": {
        "colab": {
          "base_uri": "https://localhost:8080/"
        },
        "id": "8wMTk5se937f",
        "outputId": "5406ffc2-39a5-4476-80ee-6d4d6896e46f"
      },
      "execution_count": null,
      "outputs": [
        {
          "output_type": "stream",
          "name": "stdout",
          "text": [
            "140288559249120\n",
            "140288559249120\n"
          ]
        }
      ]
    },
    {
      "cell_type": "code",
      "source": [
        ""
      ],
      "metadata": {
        "id": "LQgpwKqOGFTB"
      },
      "execution_count": null,
      "outputs": []
    },
    {
      "cell_type": "code",
      "source": [
        "you.append(4)\n",
        "\n",
        "print(id(me))\n",
        "print(id(you))\n",
        "print(me)\n",
        "print(you)"
      ],
      "metadata": {
        "colab": {
          "base_uri": "https://localhost:8080/"
        },
        "id": "pOlA5TD_-Omh",
        "outputId": "5d2f4dff-6420-4ad4-cb64-6df6d389fbfc"
      },
      "execution_count": null,
      "outputs": [
        {
          "output_type": "stream",
          "name": "stdout",
          "text": [
            "140288559249120\n",
            "140288559249120\n",
            "[1, 2, 3, 4]\n",
            "[1, 2, 3, 4]\n"
          ]
        }
      ]
    },
    {
      "cell_type": "code",
      "source": [
        "# p.29\n",
        "# 2.\n",
        "\n",
        "no1 = '서울2가1234'\n",
        "no2 = '10가1234'\n",
        "no3 = '288가1234'\n",
        "\n",
        "\n",
        "\n",
        "print(no1,'의 차량번호 4자리는',no1[-4:],'입니다.')"
      ],
      "metadata": {
        "colab": {
          "base_uri": "https://localhost:8080/"
        },
        "id": "ostzx2il-pXB",
        "outputId": "2b5747c8-be03-4118-f62f-22bcb78ff456"
      },
      "execution_count": null,
      "outputs": [
        {
          "output_type": "stream",
          "name": "stdout",
          "text": [
            "서울2가1234 의 차량번호 4자리는 1234 입니다.\n"
          ]
        }
      ]
    },
    {
      "cell_type": "code",
      "source": [
        "# 3.\n",
        "s = 'maple'\n",
        "\n",
        "print(s[2])"
      ],
      "metadata": {
        "colab": {
          "base_uri": "https://localhost:8080/"
        },
        "id": "6ycQrCyRBObB",
        "outputId": "4d3ec512-395d-4f52-8baa-fb013ec93fbe"
      },
      "execution_count": null,
      "outputs": [
        {
          "output_type": "stream",
          "name": "stdout",
          "text": [
            "p\n"
          ]
        }
      ]
    },
    {
      "cell_type": "code",
      "source": [
        "# 3.\n",
        "s = 'maple'\n",
        "\n",
        "print(s,'의 가운데 글자는',s[2],'입니다.')"
      ],
      "metadata": {
        "colab": {
          "base_uri": "https://localhost:8080/"
        },
        "id": "M72hZD3KBpAo",
        "outputId": "56966e9f-4f44-42d5-bd5c-8cf463e4dc16"
      },
      "execution_count": null,
      "outputs": [
        {
          "output_type": "stream",
          "name": "stdout",
          "text": [
            "maple 의 가운데 글자는 p 입니다.\n"
          ]
        }
      ]
    },
    {
      "cell_type": "code",
      "source": [
        "# 4.\n",
        "li = [10,20,30,40,50,60,70,80,90,100] # li 리스트\n",
        "print('3번째 요소부터 7번째 요소 =', li[2:7])\n",
        "print('3번째 요소부터 7번째 요소 중 2번째 요소 =', li[2:7][1]) # 슬라이싱에서 인덱싱"
      ],
      "metadata": {
        "colab": {
          "base_uri": "https://localhost:8080/"
        },
        "id": "a7P-lHBhB3ZE",
        "outputId": "3343c222-02a7-4a66-d2fa-baf96b474047"
      },
      "execution_count": null,
      "outputs": [
        {
          "output_type": "stream",
          "name": "stdout",
          "text": [
            "3번째 요소부터 7번째 요소 = [30, 40, 50, 60, 70]\n",
            "3번째 요소부터 7번째 요소 중 2번째 요소 = 40\n"
          ]
        }
      ]
    },
    {
      "cell_type": "code",
      "source": [
        "# 5\n",
        "dict = {'금요일':'탕수육', '토요일':'유산슬', '일요일':'팔보채'} \n",
        "print('금요일 :',dict['금요일'])\n",
        "print('토요일 :',dict['토요일'])\n",
        "print('일요일 :',dict['일요일'])"
      ],
      "metadata": {
        "colab": {
          "base_uri": "https://localhost:8080/"
        },
        "id": "IXrffEI9CsAe",
        "outputId": "6024ad5a-217d-41e5-b715-e5aa7d27a6b5"
      },
      "execution_count": null,
      "outputs": [
        {
          "output_type": "stream",
          "name": "stdout",
          "text": [
            "금요일 : 탕수육\n",
            "토요일 : 유산슬\n",
            "일요일 : 팔보채\n"
          ]
        }
      ]
    },
    {
      "cell_type": "code",
      "source": [
        "# p.52 줄 바꿈을 많이 쓴다.\n",
        "# p.53 \n",
        "\n",
        "print('Hello\\'World\\'')\n",
        "print(\"Hello\\\"World\\\"\")\n",
        "print('*\\n**\\n***') #\\n 줄바꿈 \n",
        "print('이름')"
      ],
      "metadata": {
        "colab": {
          "base_uri": "https://localhost:8080/"
        },
        "id": "M_CDyNOZGGzu",
        "outputId": "511f2802-8e2c-465b-e58c-f1367ef1b59b"
      },
      "execution_count": null,
      "outputs": [
        {
          "output_type": "stream",
          "name": "stdout",
          "text": [
            "Hello'World'\n",
            "Hello\"World\"\n",
            "*\n",
            "**\n",
            "***\n"
          ]
        }
      ]
    },
    {
      "cell_type": "code",
      "source": [
        "print('재미있는','파이썬', sep='')\n",
        "print('python','java','c',sep='.')\n",
        "print()\n",
        "print('영화 타이타닉')\n",
        "print('평점', end=':')\n",
        "print('5점')\n",
        "\n",
        "print('영화 타이타닉') #end=':' :이 있느냐 없느냐에 따라 다르다.\n",
        "print('평점', end='')\n",
        "print('5점')"
      ],
      "metadata": {
        "colab": {
          "base_uri": "https://localhost:8080/"
        },
        "id": "mRzoTdZyIfO-",
        "outputId": "4a57fef9-fca7-4c82-8482-b60910bd2741"
      },
      "execution_count": null,
      "outputs": [
        {
          "output_type": "stream",
          "name": "stdout",
          "text": [
            "재미있는파이썬\n",
            "python.java.c\n",
            "\n",
            "영화 타이타닉\n",
            "평점:5점\n",
            "영화 타이타닉\n",
            "평점5점\n"
          ]
        }
      ]
    },
    {
      "cell_type": "code",
      "source": [
        "# p.61 , 화면의 출력하는 방법 총 4가지 방법중 좋은 거가 F스트림이다.\n",
        "\n",
        "# 인쇄 4가지 방법\n",
        "#1. 기본출력 지금까지 쓴 것이다\n",
        "#2. %연산자출력\n",
        "#3. format()매서드\n",
        "#4. f string (***)\n",
        "\n",
        "# %연산자출력\n",
        "\n",
        "print('%d' % 10)\n",
        "print('%d 원입니다.' % 100) #저 자리에 집어 넣은다.\n",
        "print('%s 원입니다.' % 100) #저 자리에 집어 넣은다.\n",
        "\n",
        "print('원주율은 %f입니다.' % 3.14)\n",
        "print('원주율은 %s입니다.' % 3.14) #s는 다 된다.\n",
        "\n",
        "# p.57\n",
        "\n",
        "print('%5d' % 1) \n",
        "print('%5d' % 12) \n",
        "print('%-5d' % 1) \n",
        "print('%-5d' % 12) \n",
        "\n",
        "#3. format 매서드() 비추\n",
        "print('My name is {}'. format('james'))\n",
        "print('My name is {} I\\'m {} years old'. format('james',25))\n",
        "\n",
        "\n",
        "name='james'\n",
        "age=25\n",
        "print('My name is %s i\\'m %s years old' %  ('james',25))\n",
        "\n",
        "#4. f string (***)강추 \n",
        "print(f'My name is {name} I\\'m {age} years old')\n",
        "\n",
        "#결론: 1번, 4번 강추"
      ],
      "metadata": {
        "colab": {
          "base_uri": "https://localhost:8080/"
        },
        "id": "yiylwp4gKDLA",
        "outputId": "82e6542c-4a9c-43e6-c6b1-30fc709a5f0b"
      },
      "execution_count": null,
      "outputs": [
        {
          "output_type": "stream",
          "name": "stdout",
          "text": [
            "10\n",
            "100 원입니다.\n",
            "100 원입니다.\n",
            "원주율은 3.140000입니다.\n",
            "원주율은 3.14입니다.\n",
            "    1\n",
            "   12\n",
            "1    \n",
            "12   \n",
            "My name is james\n",
            "My name is james I'm 25 years old\n",
            "My name is james i'm 25 years old\n",
            "My name is james I'm 25 years old\n"
          ]
        }
      ]
    },
    {
      "cell_type": "code",
      "source": [
        "# 숙제 p.60, 61(하단에)\n",
        "\n",
        "age=25\n",
        "print(f'내년에는 {age+1}살이 됩니다.')\n",
        "\n"
      ],
      "metadata": {
        "colab": {
          "base_uri": "https://localhost:8080/"
        },
        "id": "zKoTAo6VLdtP",
        "outputId": "931d83aa-6966-404f-c33e-c9b4ee08c6e7"
      },
      "execution_count": null,
      "outputs": [
        {
          "output_type": "stream",
          "name": "stdout",
          "text": [
            "내년에는 26살이 됩니다.\n"
          ]
        }
      ]
    },
    {
      "cell_type": "code",
      "source": [
        "# 다음에 배울 것 p.62 input"
      ],
      "metadata": {
        "id": "xu2IJFciQYEH"
      },
      "execution_count": null,
      "outputs": []
    },
    {
      "cell_type": "code",
      "source": [
        "# 표준입력\n",
        "# input()함수는 키보드로 입력을 받을 때 사용 된다.\n",
        "\n",
        "n = input()\n",
        "print(f'당신이 입력한 수는 {n} 입니다.')"
      ],
      "metadata": {
        "colab": {
          "base_uri": "https://localhost:8080/",
          "height": 559
        },
        "id": "ULYbIEGKIMlV",
        "outputId": "c0ca44cf-4697-4766-fe4b-df04a49bd290"
      },
      "execution_count": null,
      "outputs": [
        {
          "output_type": "error",
          "ename": "KeyboardInterrupt",
          "evalue": "ignored",
          "traceback": [
            "\u001b[0;31m---------------------------------------------------------------------------\u001b[0m",
            "\u001b[0;31mKeyboardInterrupt\u001b[0m                         Traceback (most recent call last)",
            "\u001b[0;32m/usr/local/lib/python3.7/dist-packages/ipykernel/kernelbase.py\u001b[0m in \u001b[0;36m_input_request\u001b[0;34m(self, prompt, ident, parent, password)\u001b[0m\n\u001b[1;32m    728\u001b[0m             \u001b[0;32mtry\u001b[0m\u001b[0;34m:\u001b[0m\u001b[0;34m\u001b[0m\u001b[0;34m\u001b[0m\u001b[0m\n\u001b[0;32m--> 729\u001b[0;31m                 \u001b[0mident\u001b[0m\u001b[0;34m,\u001b[0m \u001b[0mreply\u001b[0m \u001b[0;34m=\u001b[0m \u001b[0mself\u001b[0m\u001b[0;34m.\u001b[0m\u001b[0msession\u001b[0m\u001b[0;34m.\u001b[0m\u001b[0mrecv\u001b[0m\u001b[0;34m(\u001b[0m\u001b[0mself\u001b[0m\u001b[0;34m.\u001b[0m\u001b[0mstdin_socket\u001b[0m\u001b[0;34m,\u001b[0m \u001b[0;36m0\u001b[0m\u001b[0;34m)\u001b[0m\u001b[0;34m\u001b[0m\u001b[0;34m\u001b[0m\u001b[0m\n\u001b[0m\u001b[1;32m    730\u001b[0m             \u001b[0;32mexcept\u001b[0m \u001b[0mException\u001b[0m\u001b[0;34m:\u001b[0m\u001b[0;34m\u001b[0m\u001b[0;34m\u001b[0m\u001b[0m\n",
            "\u001b[0;32m/usr/local/lib/python3.7/dist-packages/jupyter_client/session.py\u001b[0m in \u001b[0;36mrecv\u001b[0;34m(self, socket, mode, content, copy)\u001b[0m\n\u001b[1;32m    802\u001b[0m         \u001b[0;32mtry\u001b[0m\u001b[0;34m:\u001b[0m\u001b[0;34m\u001b[0m\u001b[0;34m\u001b[0m\u001b[0m\n\u001b[0;32m--> 803\u001b[0;31m             \u001b[0mmsg_list\u001b[0m \u001b[0;34m=\u001b[0m \u001b[0msocket\u001b[0m\u001b[0;34m.\u001b[0m\u001b[0mrecv_multipart\u001b[0m\u001b[0;34m(\u001b[0m\u001b[0mmode\u001b[0m\u001b[0;34m,\u001b[0m \u001b[0mcopy\u001b[0m\u001b[0;34m=\u001b[0m\u001b[0mcopy\u001b[0m\u001b[0;34m)\u001b[0m\u001b[0;34m\u001b[0m\u001b[0;34m\u001b[0m\u001b[0m\n\u001b[0m\u001b[1;32m    804\u001b[0m         \u001b[0;32mexcept\u001b[0m \u001b[0mzmq\u001b[0m\u001b[0;34m.\u001b[0m\u001b[0mZMQError\u001b[0m \u001b[0;32mas\u001b[0m \u001b[0me\u001b[0m\u001b[0;34m:\u001b[0m\u001b[0;34m\u001b[0m\u001b[0;34m\u001b[0m\u001b[0m\n",
            "\u001b[0;32m/usr/local/lib/python3.7/dist-packages/zmq/sugar/socket.py\u001b[0m in \u001b[0;36mrecv_multipart\u001b[0;34m(self, flags, copy, track)\u001b[0m\n\u001b[1;32m    624\u001b[0m         \"\"\"\n\u001b[0;32m--> 625\u001b[0;31m         \u001b[0mparts\u001b[0m \u001b[0;34m=\u001b[0m \u001b[0;34m[\u001b[0m\u001b[0mself\u001b[0m\u001b[0;34m.\u001b[0m\u001b[0mrecv\u001b[0m\u001b[0;34m(\u001b[0m\u001b[0mflags\u001b[0m\u001b[0;34m,\u001b[0m \u001b[0mcopy\u001b[0m\u001b[0;34m=\u001b[0m\u001b[0mcopy\u001b[0m\u001b[0;34m,\u001b[0m \u001b[0mtrack\u001b[0m\u001b[0;34m=\u001b[0m\u001b[0mtrack\u001b[0m\u001b[0;34m)\u001b[0m\u001b[0;34m]\u001b[0m\u001b[0;34m\u001b[0m\u001b[0;34m\u001b[0m\u001b[0m\n\u001b[0m\u001b[1;32m    626\u001b[0m         \u001b[0;31m# have first part already, only loop while more to receive\u001b[0m\u001b[0;34m\u001b[0m\u001b[0;34m\u001b[0m\u001b[0;34m\u001b[0m\u001b[0m\n",
            "\u001b[0;32mzmq/backend/cython/socket.pyx\u001b[0m in \u001b[0;36mzmq.backend.cython.socket.Socket.recv\u001b[0;34m()\u001b[0m\n",
            "\u001b[0;32mzmq/backend/cython/socket.pyx\u001b[0m in \u001b[0;36mzmq.backend.cython.socket.Socket.recv\u001b[0;34m()\u001b[0m\n",
            "\u001b[0;32mzmq/backend/cython/socket.pyx\u001b[0m in \u001b[0;36mzmq.backend.cython.socket._recv_copy\u001b[0;34m()\u001b[0m\n",
            "\u001b[0;32m/usr/local/lib/python3.7/dist-packages/zmq/backend/cython/checkrc.pxd\u001b[0m in \u001b[0;36mzmq.backend.cython.checkrc._check_rc\u001b[0;34m()\u001b[0m\n",
            "\u001b[0;31mKeyboardInterrupt\u001b[0m: ",
            "\nDuring handling of the above exception, another exception occurred:\n",
            "\u001b[0;31mKeyboardInterrupt\u001b[0m                         Traceback (most recent call last)",
            "\u001b[0;32m<ipython-input-5-9743da0a043f>\u001b[0m in \u001b[0;36m<module>\u001b[0;34m()\u001b[0m\n\u001b[1;32m      2\u001b[0m \u001b[0;31m# input()함수는 키보드로 입력을 받을 때 사용 된다.\u001b[0m\u001b[0;34m\u001b[0m\u001b[0;34m\u001b[0m\u001b[0;34m\u001b[0m\u001b[0m\n\u001b[1;32m      3\u001b[0m \u001b[0;34m\u001b[0m\u001b[0m\n\u001b[0;32m----> 4\u001b[0;31m \u001b[0mn\u001b[0m \u001b[0;34m=\u001b[0m \u001b[0minput\u001b[0m\u001b[0;34m(\u001b[0m\u001b[0;34m)\u001b[0m\u001b[0;34m\u001b[0m\u001b[0;34m\u001b[0m\u001b[0m\n\u001b[0m\u001b[1;32m      5\u001b[0m \u001b[0mprint\u001b[0m\u001b[0;34m(\u001b[0m\u001b[0;34mf'당신이 입력한 수는 {n} 입니다.'\u001b[0m\u001b[0;34m)\u001b[0m\u001b[0;34m\u001b[0m\u001b[0;34m\u001b[0m\u001b[0m\n",
            "\u001b[0;32m/usr/local/lib/python3.7/dist-packages/ipykernel/kernelbase.py\u001b[0m in \u001b[0;36mraw_input\u001b[0;34m(self, prompt)\u001b[0m\n\u001b[1;32m    702\u001b[0m             \u001b[0mself\u001b[0m\u001b[0;34m.\u001b[0m\u001b[0m_parent_ident\u001b[0m\u001b[0;34m,\u001b[0m\u001b[0;34m\u001b[0m\u001b[0;34m\u001b[0m\u001b[0m\n\u001b[1;32m    703\u001b[0m             \u001b[0mself\u001b[0m\u001b[0;34m.\u001b[0m\u001b[0m_parent_header\u001b[0m\u001b[0;34m,\u001b[0m\u001b[0;34m\u001b[0m\u001b[0;34m\u001b[0m\u001b[0m\n\u001b[0;32m--> 704\u001b[0;31m             \u001b[0mpassword\u001b[0m\u001b[0;34m=\u001b[0m\u001b[0;32mFalse\u001b[0m\u001b[0;34m,\u001b[0m\u001b[0;34m\u001b[0m\u001b[0;34m\u001b[0m\u001b[0m\n\u001b[0m\u001b[1;32m    705\u001b[0m         )\n\u001b[1;32m    706\u001b[0m \u001b[0;34m\u001b[0m\u001b[0m\n",
            "\u001b[0;32m/usr/local/lib/python3.7/dist-packages/ipykernel/kernelbase.py\u001b[0m in \u001b[0;36m_input_request\u001b[0;34m(self, prompt, ident, parent, password)\u001b[0m\n\u001b[1;32m    732\u001b[0m             \u001b[0;32mexcept\u001b[0m \u001b[0mKeyboardInterrupt\u001b[0m\u001b[0;34m:\u001b[0m\u001b[0;34m\u001b[0m\u001b[0;34m\u001b[0m\u001b[0m\n\u001b[1;32m    733\u001b[0m                 \u001b[0;31m# re-raise KeyboardInterrupt, to truncate traceback\u001b[0m\u001b[0;34m\u001b[0m\u001b[0;34m\u001b[0m\u001b[0;34m\u001b[0m\u001b[0m\n\u001b[0;32m--> 734\u001b[0;31m                 \u001b[0;32mraise\u001b[0m \u001b[0mKeyboardInterrupt\u001b[0m\u001b[0;34m\u001b[0m\u001b[0;34m\u001b[0m\u001b[0m\n\u001b[0m\u001b[1;32m    735\u001b[0m             \u001b[0;32melse\u001b[0m\u001b[0;34m:\u001b[0m\u001b[0;34m\u001b[0m\u001b[0;34m\u001b[0m\u001b[0m\n\u001b[1;32m    736\u001b[0m                 \u001b[0;32mbreak\u001b[0m\u001b[0;34m\u001b[0m\u001b[0;34m\u001b[0m\u001b[0m\n",
            "\u001b[0;31mKeyboardInterrupt\u001b[0m: "
          ]
        }
      ]
    },
    {
      "cell_type": "code",
      "source": [
        "name = input ('이름을 입력하세요>>>')\n",
        "age = input('나이를 입력하세요>>>')\n",
        "\n",
        "print(f'입력된 이름은 {name}이고 나이는{age}')\n",
        "\n",
        "\n"
      ],
      "metadata": {
        "colab": {
          "base_uri": "https://localhost:8080/",
          "height": 559
        },
        "id": "8S21wYnBJW0m",
        "outputId": "1a2b071b-61eb-4a04-8437-20bcd909573b"
      },
      "execution_count": null,
      "outputs": [
        {
          "output_type": "error",
          "ename": "KeyboardInterrupt",
          "evalue": "ignored",
          "traceback": [
            "\u001b[0;31m---------------------------------------------------------------------------\u001b[0m",
            "\u001b[0;31mKeyboardInterrupt\u001b[0m                         Traceback (most recent call last)",
            "\u001b[0;32m/usr/local/lib/python3.7/dist-packages/ipykernel/kernelbase.py\u001b[0m in \u001b[0;36m_input_request\u001b[0;34m(self, prompt, ident, parent, password)\u001b[0m\n\u001b[1;32m    728\u001b[0m             \u001b[0;32mtry\u001b[0m\u001b[0;34m:\u001b[0m\u001b[0;34m\u001b[0m\u001b[0;34m\u001b[0m\u001b[0m\n\u001b[0;32m--> 729\u001b[0;31m                 \u001b[0mident\u001b[0m\u001b[0;34m,\u001b[0m \u001b[0mreply\u001b[0m \u001b[0;34m=\u001b[0m \u001b[0mself\u001b[0m\u001b[0;34m.\u001b[0m\u001b[0msession\u001b[0m\u001b[0;34m.\u001b[0m\u001b[0mrecv\u001b[0m\u001b[0;34m(\u001b[0m\u001b[0mself\u001b[0m\u001b[0;34m.\u001b[0m\u001b[0mstdin_socket\u001b[0m\u001b[0;34m,\u001b[0m \u001b[0;36m0\u001b[0m\u001b[0;34m)\u001b[0m\u001b[0;34m\u001b[0m\u001b[0;34m\u001b[0m\u001b[0m\n\u001b[0m\u001b[1;32m    730\u001b[0m             \u001b[0;32mexcept\u001b[0m \u001b[0mException\u001b[0m\u001b[0;34m:\u001b[0m\u001b[0;34m\u001b[0m\u001b[0;34m\u001b[0m\u001b[0m\n",
            "\u001b[0;32m/usr/local/lib/python3.7/dist-packages/jupyter_client/session.py\u001b[0m in \u001b[0;36mrecv\u001b[0;34m(self, socket, mode, content, copy)\u001b[0m\n\u001b[1;32m    802\u001b[0m         \u001b[0;32mtry\u001b[0m\u001b[0;34m:\u001b[0m\u001b[0;34m\u001b[0m\u001b[0;34m\u001b[0m\u001b[0m\n\u001b[0;32m--> 803\u001b[0;31m             \u001b[0mmsg_list\u001b[0m \u001b[0;34m=\u001b[0m \u001b[0msocket\u001b[0m\u001b[0;34m.\u001b[0m\u001b[0mrecv_multipart\u001b[0m\u001b[0;34m(\u001b[0m\u001b[0mmode\u001b[0m\u001b[0;34m,\u001b[0m \u001b[0mcopy\u001b[0m\u001b[0;34m=\u001b[0m\u001b[0mcopy\u001b[0m\u001b[0;34m)\u001b[0m\u001b[0;34m\u001b[0m\u001b[0;34m\u001b[0m\u001b[0m\n\u001b[0m\u001b[1;32m    804\u001b[0m         \u001b[0;32mexcept\u001b[0m \u001b[0mzmq\u001b[0m\u001b[0;34m.\u001b[0m\u001b[0mZMQError\u001b[0m \u001b[0;32mas\u001b[0m \u001b[0me\u001b[0m\u001b[0;34m:\u001b[0m\u001b[0;34m\u001b[0m\u001b[0;34m\u001b[0m\u001b[0m\n",
            "\u001b[0;32m/usr/local/lib/python3.7/dist-packages/zmq/sugar/socket.py\u001b[0m in \u001b[0;36mrecv_multipart\u001b[0;34m(self, flags, copy, track)\u001b[0m\n\u001b[1;32m    624\u001b[0m         \"\"\"\n\u001b[0;32m--> 625\u001b[0;31m         \u001b[0mparts\u001b[0m \u001b[0;34m=\u001b[0m \u001b[0;34m[\u001b[0m\u001b[0mself\u001b[0m\u001b[0;34m.\u001b[0m\u001b[0mrecv\u001b[0m\u001b[0;34m(\u001b[0m\u001b[0mflags\u001b[0m\u001b[0;34m,\u001b[0m \u001b[0mcopy\u001b[0m\u001b[0;34m=\u001b[0m\u001b[0mcopy\u001b[0m\u001b[0;34m,\u001b[0m \u001b[0mtrack\u001b[0m\u001b[0;34m=\u001b[0m\u001b[0mtrack\u001b[0m\u001b[0;34m)\u001b[0m\u001b[0;34m]\u001b[0m\u001b[0;34m\u001b[0m\u001b[0;34m\u001b[0m\u001b[0m\n\u001b[0m\u001b[1;32m    626\u001b[0m         \u001b[0;31m# have first part already, only loop while more to receive\u001b[0m\u001b[0;34m\u001b[0m\u001b[0;34m\u001b[0m\u001b[0;34m\u001b[0m\u001b[0m\n",
            "\u001b[0;32mzmq/backend/cython/socket.pyx\u001b[0m in \u001b[0;36mzmq.backend.cython.socket.Socket.recv\u001b[0;34m()\u001b[0m\n",
            "\u001b[0;32mzmq/backend/cython/socket.pyx\u001b[0m in \u001b[0;36mzmq.backend.cython.socket.Socket.recv\u001b[0;34m()\u001b[0m\n",
            "\u001b[0;32mzmq/backend/cython/socket.pyx\u001b[0m in \u001b[0;36mzmq.backend.cython.socket._recv_copy\u001b[0;34m()\u001b[0m\n",
            "\u001b[0;32m/usr/local/lib/python3.7/dist-packages/zmq/backend/cython/checkrc.pxd\u001b[0m in \u001b[0;36mzmq.backend.cython.checkrc._check_rc\u001b[0;34m()\u001b[0m\n",
            "\u001b[0;31mKeyboardInterrupt\u001b[0m: ",
            "\nDuring handling of the above exception, another exception occurred:\n",
            "\u001b[0;31mKeyboardInterrupt\u001b[0m                         Traceback (most recent call last)",
            "\u001b[0;32m<ipython-input-8-9b43ee82f2de>\u001b[0m in \u001b[0;36m<module>\u001b[0;34m()\u001b[0m\n\u001b[0;32m----> 1\u001b[0;31m \u001b[0mname\u001b[0m \u001b[0;34m=\u001b[0m \u001b[0minput\u001b[0m \u001b[0;34m(\u001b[0m\u001b[0;34m'이름을 입력하세요>>>'\u001b[0m\u001b[0;34m)\u001b[0m\u001b[0;34m\u001b[0m\u001b[0;34m\u001b[0m\u001b[0m\n\u001b[0m\u001b[1;32m      2\u001b[0m \u001b[0mage\u001b[0m \u001b[0;34m=\u001b[0m \u001b[0minput\u001b[0m\u001b[0;34m(\u001b[0m\u001b[0;34m'나이를 입력하세요>>>'\u001b[0m\u001b[0;34m)\u001b[0m\u001b[0;34m\u001b[0m\u001b[0;34m\u001b[0m\u001b[0m\n\u001b[1;32m      3\u001b[0m \u001b[0;34m\u001b[0m\u001b[0m\n\u001b[1;32m      4\u001b[0m \u001b[0mprint\u001b[0m\u001b[0;34m(\u001b[0m\u001b[0;34mf'입력된 이름은 {name}이고 나이는{age}'\u001b[0m\u001b[0;34m)\u001b[0m\u001b[0;34m\u001b[0m\u001b[0;34m\u001b[0m\u001b[0m\n\u001b[1;32m      5\u001b[0m \u001b[0;34m\u001b[0m\u001b[0m\n",
            "\u001b[0;32m/usr/local/lib/python3.7/dist-packages/ipykernel/kernelbase.py\u001b[0m in \u001b[0;36mraw_input\u001b[0;34m(self, prompt)\u001b[0m\n\u001b[1;32m    702\u001b[0m             \u001b[0mself\u001b[0m\u001b[0;34m.\u001b[0m\u001b[0m_parent_ident\u001b[0m\u001b[0;34m,\u001b[0m\u001b[0;34m\u001b[0m\u001b[0;34m\u001b[0m\u001b[0m\n\u001b[1;32m    703\u001b[0m             \u001b[0mself\u001b[0m\u001b[0;34m.\u001b[0m\u001b[0m_parent_header\u001b[0m\u001b[0;34m,\u001b[0m\u001b[0;34m\u001b[0m\u001b[0;34m\u001b[0m\u001b[0m\n\u001b[0;32m--> 704\u001b[0;31m             \u001b[0mpassword\u001b[0m\u001b[0;34m=\u001b[0m\u001b[0;32mFalse\u001b[0m\u001b[0;34m,\u001b[0m\u001b[0;34m\u001b[0m\u001b[0;34m\u001b[0m\u001b[0m\n\u001b[0m\u001b[1;32m    705\u001b[0m         )\n\u001b[1;32m    706\u001b[0m \u001b[0;34m\u001b[0m\u001b[0m\n",
            "\u001b[0;32m/usr/local/lib/python3.7/dist-packages/ipykernel/kernelbase.py\u001b[0m in \u001b[0;36m_input_request\u001b[0;34m(self, prompt, ident, parent, password)\u001b[0m\n\u001b[1;32m    732\u001b[0m             \u001b[0;32mexcept\u001b[0m \u001b[0mKeyboardInterrupt\u001b[0m\u001b[0;34m:\u001b[0m\u001b[0;34m\u001b[0m\u001b[0;34m\u001b[0m\u001b[0m\n\u001b[1;32m    733\u001b[0m                 \u001b[0;31m# re-raise KeyboardInterrupt, to truncate traceback\u001b[0m\u001b[0;34m\u001b[0m\u001b[0;34m\u001b[0m\u001b[0;34m\u001b[0m\u001b[0m\n\u001b[0;32m--> 734\u001b[0;31m                 \u001b[0;32mraise\u001b[0m \u001b[0mKeyboardInterrupt\u001b[0m\u001b[0;34m\u001b[0m\u001b[0;34m\u001b[0m\u001b[0m\n\u001b[0m\u001b[1;32m    735\u001b[0m             \u001b[0;32melse\u001b[0m\u001b[0;34m:\u001b[0m\u001b[0;34m\u001b[0m\u001b[0;34m\u001b[0m\u001b[0m\n\u001b[1;32m    736\u001b[0m                 \u001b[0;32mbreak\u001b[0m\u001b[0;34m\u001b[0m\u001b[0;34m\u001b[0m\u001b[0m\n",
            "\u001b[0;31mKeyboardInterrupt\u001b[0m: "
          ]
        }
      ]
    },
    {
      "cell_type": "code",
      "source": [
        ""
      ],
      "metadata": {
        "id": "9Cp_pAgYK8fw"
      },
      "execution_count": null,
      "outputs": []
    },
    {
      "cell_type": "code",
      "source": [
        "# 좋아하는 과일은?\n",
        "# 당신이 좋아하는 과일은 .....입니다.\n",
        "\n",
        "fruit =input('좋아하는 과일은?')\n",
        "print(f'당신이 좋아하는 과일은 {fruit}입니다.')"
      ],
      "metadata": {
        "colab": {
          "base_uri": "https://localhost:8080/"
        },
        "id": "VU1m26LKKX3r",
        "outputId": "036a53ba-299c-4b0d-e3f0-ea6478557879"
      },
      "execution_count": null,
      "outputs": [
        {
          "output_type": "stream",
          "name": "stdout",
          "text": [
            "좋아하는 과일은?체리\n",
            "당신이 좋아하는 과일은 체리입니다.\n"
          ]
        }
      ]
    },
    {
      "cell_type": "code",
      "source": [
        "n = input(\"정수를 입력하세요>>>\")\n",
        "print(type(n))"
      ],
      "metadata": {
        "colab": {
          "base_uri": "https://localhost:8080/"
        },
        "id": "Ap-qYRoyK9aj",
        "outputId": "3ffeda60-0efe-4f51-cdb5-4a29fa68884e"
      },
      "execution_count": null,
      "outputs": [
        {
          "output_type": "stream",
          "name": "stdout",
          "text": [
            "정수를 입력하세요>>>9\n",
            "<class 'str'>\n"
          ]
        }
      ]
    },
    {
      "cell_type": "code",
      "source": [
        "price = 5000\n",
        "n = int(input('할부 개월 입력>>>'))\n",
        "print(f'매달 내는 돈을{price/n}원 입니다.')"
      ],
      "metadata": {
        "colab": {
          "base_uri": "https://localhost:8080/"
        },
        "id": "x70bK8mJLYuw",
        "outputId": "38629cd8-0af3-4bc7-c8b7-e1cd4c6880da"
      },
      "execution_count": null,
      "outputs": [
        {
          "output_type": "stream",
          "name": "stdout",
          "text": [
            "할부 개월 입력>>>12\n",
            "매달 내는 돈을416.6666666666667원 입니다.\n"
          ]
        }
      ]
    },
    {
      "cell_type": "code",
      "source": [
        ""
      ],
      "metadata": {
        "id": "Igav3Cw1O8ph"
      },
      "execution_count": null,
      "outputs": []
    },
    {
      "cell_type": "code",
      "source": [
        "price = 5000\n",
        "n = int(input('할부 개월 입력>>>'))\n",
        "print(f'매달 내는 돈을{price/n}원 입니다.')"
      ],
      "metadata": {
        "colab": {
          "base_uri": "https://localhost:8080/"
        },
        "id": "dabqKMOGL4pL",
        "outputId": "699169ed-4085-49f6-d018-7e36a132422d"
      },
      "execution_count": null,
      "outputs": [
        {
          "output_type": "stream",
          "name": "stdout",
          "text": [
            "할부 개월 입력>>>12\n",
            "매달 내는 돈을416.6666666666667원 입니다.\n"
          ]
        }
      ]
    },
    {
      "cell_type": "code",
      "source": [
        "\n",
        "#p66\n",
        "a = float(input('첫번째 실수를 입력하세요>>>'))\n",
        "b = float(input('두번째 실수를 입력하세요>>>'))\n",
        "\n",
        "print( f'{a}와 {b}의 합은 {a+b}입니다.')\n"
      ],
      "metadata": {
        "colab": {
          "base_uri": "https://localhost:8080/"
        },
        "id": "X60ch67lMVeW",
        "outputId": "ed31d02a-c24d-4488-b353-b9701bd0fada"
      },
      "execution_count": null,
      "outputs": [
        {
          "output_type": "stream",
          "name": "stdout",
          "text": [
            "첫번째 실수를 입력하세요>>>3.14\n",
            "두번째 실수를 입력하세요>>>2.71\n",
            "3.14와 2.71의 합은 5.85입니다.\n"
          ]
        }
      ]
    },
    {
      "cell_type": "code",
      "source": [
        "\n",
        "\n",
        "month=[31,28,31,30,31,30,31,31,30,31,30,31]\n",
        "\n",
        "ask=int(input('1~12월 사이의 월을 입력하세요 >>>'))\n",
        "\n",
        "print(f'{ask}월은 {month[ask-1]}일까지 있습니다.')"
      ],
      "metadata": {
        "colab": {
          "base_uri": "https://localhost:8080/"
        },
        "id": "zbwHa6lwN939",
        "outputId": "ce027bb0-9183-4531-cdc5-e34aff5ac2d4"
      },
      "execution_count": null,
      "outputs": [
        {
          "output_type": "stream",
          "name": "stdout",
          "text": [
            "1~12월 사이의 월을 입력하세요 >>>1\n",
            "1월은 31일까지 있습니다.\n"
          ]
        }
      ]
    },
    {
      "cell_type": "code",
      "source": [
        "english_dict={\n",
        "    'flower':\"꽃\",\n",
        "    'fly':\"날다\",\n",
        "    'floor':\"바닥\"\n",
        "}\n",
        "\n",
        "word= input('영어 단어를 입력하세요>>>')\n",
        "print(f'{word} : {english_dict[word]}')\n",
        "\n"
      ],
      "metadata": {
        "colab": {
          "base_uri": "https://localhost:8080/"
        },
        "id": "uZR-KK6xQUEd",
        "outputId": "2fdc5aa9-488f-4c8b-e4bf-4bff6d2a87ce"
      },
      "execution_count": null,
      "outputs": [
        {
          "output_type": "stream",
          "name": "stdout",
          "text": [
            "영어 단어를 입력하세요>>>flower\n",
            "flower : 꽃\n"
          ]
        }
      ]
    },
    {
      "cell_type": "code",
      "source": [
        "s= set()\n",
        "\n",
        "hope = input('희망하는 수학여행지를 입력하세요>>>')\n",
        "s.add(hope)\n",
        "hope = input('희망하는 수학여행지를 입력하세요>>>')\n",
        "s.add(hope)\n",
        "hope = input('희망하는 수학여행지를 입력하세요>>>')\n",
        "s.add(hope)\n",
        "\n",
        "print(f'조사된 수학여행지는 {s}입니다.') # set 중복을 허용하지 않는다, s.add(hope)"
      ],
      "metadata": {
        "colab": {
          "base_uri": "https://localhost:8080/"
        },
        "id": "uY2PW3uvSO1e",
        "outputId": "b81d4933-e29a-403f-f53c-0f0bd4c5fb65"
      },
      "execution_count": null,
      "outputs": [
        {
          "output_type": "stream",
          "name": "stdout",
          "text": [
            "희망하는 수학여행지를 입력하세요>>>제주\n",
            "희망하는 수학여행지를 입력하세요>>>제주\n",
            "희망하는 수학여행지를 입력하세요>>>민속촌\n",
            "조사된 수학여행지는 {'민속촌', '제주'}입니다.\n"
          ]
        }
      ]
    },
    {
      "cell_type": "code",
      "source": [
        "#p73\n",
        "\n",
        "a=7\n",
        "b=2\n",
        "print(f'{a}+{b}={a+b}')\n",
        "print(f'{a}-{b}={a-b}')\n",
        "print(f'{a}*{b}={a*b}')\n",
        "print(f'{a}**{b}={a**b}')\n",
        "print(f'{a}/{b}={a/b}')\n",
        "print(f'{a}//{b}={a//b}')\n",
        "print(f'{a}%{b}={a%b}')\n",
        "\n",
        "\n",
        "\n",
        "\n"
      ],
      "metadata": {
        "colab": {
          "base_uri": "https://localhost:8080/"
        },
        "id": "VdiEEb2BUG9_",
        "outputId": "3ec28c76-9b51-49b5-d153-4678339e2704"
      },
      "execution_count": null,
      "outputs": [
        {
          "output_type": "stream",
          "name": "stdout",
          "text": [
            "7+2=9\n",
            "7-2=5\n",
            "7*2=14\n",
            "7**2=49\n",
            "7/2=3.5\n",
            "7//2=3\n",
            "7%2=1\n"
          ]
        }
      ]
    },
    {
      "cell_type": "code",
      "source": [
        "#대입 연산자\n",
        "\n",
        "a = 1\n",
        "b = 2\n",
        "\n",
        "a, b = 1,2\n",
        "\n",
        "print(f'a={a}, b={b}')\n",
        "\n",
        "#두 변수의 값 교환(다른 언어)\n",
        "t=a\n",
        "a=b\n",
        "b=t\n",
        "\n",
        "print(f'a={a}, b={b}')\n",
        "\n",
        "#두 변수의 값 교환(파이썬)\n",
        "a, b = b, a\n",
        "\n",
        "print(f'a={a}, b={b}')\n",
        "\n",
        "\n",
        "\n",
        "\n",
        "\n"
      ],
      "metadata": {
        "colab": {
          "base_uri": "https://localhost:8080/"
        },
        "id": "7aDqCqEFXtER",
        "outputId": "c59d09d8-0f34-42f3-a107-2eb45aae2118"
      },
      "execution_count": null,
      "outputs": [
        {
          "output_type": "stream",
          "name": "stdout",
          "text": [
            "a=1, b=2\n",
            "a=2, b=1\n",
            "a=1, b=2\n"
          ]
        }
      ]
    },
    {
      "cell_type": "code",
      "source": [
        "#복합 대입 연산자\n",
        "\n",
        "a = 1\n",
        "print(a)\n",
        "a = a + 1 #자기 자신을 하나 증가\n",
        "print(a)\n",
        "a+=1\n",
        "print(a) #자기 자신을 하나 증가\n",
        "\n",
        "a-=1 #a=a-1\n",
        "print(a)"
      ],
      "metadata": {
        "colab": {
          "base_uri": "https://localhost:8080/"
        },
        "id": "r3B1fp5xaNLG",
        "outputId": "d6c182ce-9fe3-4b62-9c0e-9fbbcd14947e"
      },
      "execution_count": null,
      "outputs": [
        {
          "output_type": "stream",
          "name": "stdout",
          "text": [
            "1\n",
            "2\n",
            "3\n",
            "2\n"
          ]
        }
      ]
    },
    {
      "cell_type": "code",
      "source": [
        "#p75\n",
        "\n",
        "a,b = 10,20\n",
        "print(f'a={a}, b={b}')\n",
        "\n",
        "a,b =b,a #다른 언어에는 없는 파이썬스러운 표현"
      ],
      "metadata": {
        "colab": {
          "base_uri": "https://localhost:8080/"
        },
        "id": "zKJ82GFca4Hd",
        "outputId": "b709d15a-67b6-4069-e072-6b51659fbdd2"
      },
      "execution_count": null,
      "outputs": [
        {
          "output_type": "stream",
          "name": "stdout",
          "text": [
            "a=10, b=20\n"
          ]
        }
      ]
    },
    {
      "cell_type": "code",
      "source": [
        "piggy_bank=0\n",
        "\n",
        "money=1000\n",
        "piggy_bank+= money     # piggy_bank =piggy_bank + money\n",
        "print('저금통에서 용돈 {money}원을 넣었습니다.')\n",
        "print('저금통에는 {piggy_bank}원이 있습니다.')\n",
        "\n",
        "snack=2000\n",
        "piggy_bank-=snack\n",
        "print(f'저금통에서 스낵 구입비 {snack}원을 뺐습니다.')\n",
        "print(f'지금 저금통에는 {piggy_bank}원이 있습니다.')"
      ],
      "metadata": {
        "colab": {
          "base_uri": "https://localhost:8080/"
        },
        "id": "-IGZGv0zbtyI",
        "outputId": "b5ba63bf-adb2-4180-938a-49bb32b2bef3"
      },
      "execution_count": null,
      "outputs": [
        {
          "output_type": "stream",
          "name": "stdout",
          "text": [
            "저금통에서 용돈 {money}원을 넣었습니다.\n",
            "저금통에는 {piggy_bank}원이 있습니다.\n",
            "저금통에서 스낵 구입비 2000원을 뺐습니다.\n",
            "지금 저금통에는 -1000원이 있습니다.\n"
          ]
        }
      ]
    },
    {
      "cell_type": "code",
      "source": [
        "#p81 #시퀀스 연산자\n",
        "\n",
        "[1,3,5]+[2,4,6]\n"
      ],
      "metadata": {
        "colab": {
          "base_uri": "https://localhost:8080/"
        },
        "id": "v_R9CprMdfF8",
        "outputId": "e423c4a5-f747-47c3-ba4a-f85da3aef9e7"
      },
      "execution_count": null,
      "outputs": [
        {
          "output_type": "execute_result",
          "data": {
            "text/plain": [
              "[1, 3, 5, 2, 4, 6]"
            ]
          },
          "metadata": {},
          "execution_count": 39
        }
      ]
    },
    {
      "cell_type": "code",
      "source": [
        "#공백을 하나로 붙혀버린다.\n",
        "'hello'+ '' +'python'\n"
      ],
      "metadata": {
        "colab": {
          "base_uri": "https://localhost:8080/",
          "height": 35
        },
        "id": "Ck8Vo3gdeRUs",
        "outputId": "1bd79017-1f74-4e0a-df2c-2284848752a3"
      },
      "execution_count": null,
      "outputs": [
        {
          "output_type": "execute_result",
          "data": {
            "text/plain": [
              "'hellopython'"
            ],
            "application/vnd.google.colaboratory.intrinsic+json": {
              "type": "string"
            }
          },
          "metadata": {},
          "execution_count": 40
        }
      ]
    },
    {
      "cell_type": "code",
      "source": [
        "[1,3,5]*2"
      ],
      "metadata": {
        "colab": {
          "base_uri": "https://localhost:8080/"
        },
        "id": "X1-z0De9eeS0",
        "outputId": "b123e444-43b7-4afd-b9a8-3190d654c6d1"
      },
      "execution_count": null,
      "outputs": [
        {
          "output_type": "execute_result",
          "data": {
            "text/plain": [
              "[1, 3, 5, 1, 3, 5]"
            ]
          },
          "metadata": {},
          "execution_count": 41
        }
      ]
    },
    {
      "cell_type": "code",
      "source": [
        "'*'*5"
      ],
      "metadata": {
        "colab": {
          "base_uri": "https://localhost:8080/",
          "height": 35
        },
        "id": "hEWW-ZiAej6v",
        "outputId": "b1f7e1d2-52ff-44d6-f793-e2a097105195"
      },
      "execution_count": null,
      "outputs": [
        {
          "output_type": "execute_result",
          "data": {
            "text/plain": [
              "'*****'"
            ],
            "application/vnd.google.colaboratory.intrinsic+json": {
              "type": "string"
            }
          },
          "metadata": {},
          "execution_count": 42
        }
      ]
    },
    {
      "cell_type": "code",
      "source": [
        "'-'*30 #문자열을 곱 할 수가 있다"
      ],
      "metadata": {
        "colab": {
          "base_uri": "https://localhost:8080/",
          "height": 35
        },
        "id": "vAIMusmWer2a",
        "outputId": "81dbb215-31c1-4576-95ac-aed666a0a112"
      },
      "execution_count": null,
      "outputs": [
        {
          "output_type": "execute_result",
          "data": {
            "text/plain": [
              "'------------------------------'"
            ],
            "application/vnd.google.colaboratory.intrinsic+json": {
              "type": "string"
            }
          },
          "metadata": {},
          "execution_count": 44
        }
      ]
    },
    {
      "cell_type": "code",
      "source": [
        "# 멤버십 연산자\n",
        "#어떤 값이 지정 된 컬렉션에(리스트, 문자열, 딕셔너리)에 속해 있는지\n",
        "# 여부를 판단하여 속해 있으면 True 아니면 False로 반환\n",
        "\n",
        "5 in [1,2,3,4,5]"
      ],
      "metadata": {
        "colab": {
          "base_uri": "https://localhost:8080/"
        },
        "id": "ghk8rPSqexrS",
        "outputId": "cc754032-889e-48d7-d61c-eb7099743596"
      },
      "execution_count": null,
      "outputs": [
        {
          "output_type": "execute_result",
          "data": {
            "text/plain": [
              "True"
            ]
          },
          "metadata": {},
          "execution_count": 46
        }
      ]
    },
    {
      "cell_type": "code",
      "source": [
        "'n' in 'apple'"
      ],
      "metadata": {
        "colab": {
          "base_uri": "https://localhost:8080/"
        },
        "id": "VFdcM__SfSti",
        "outputId": "2e872e92-3121-4f72-a2e8-a0c4144dda1a"
      },
      "execution_count": null,
      "outputs": [
        {
          "output_type": "execute_result",
          "data": {
            "text/plain": [
              "False"
            ]
          },
          "metadata": {},
          "execution_count": 47
        }
      ]
    },
    {
      "cell_type": "code",
      "source": [
        "5 not in [1,2,3,4,5]"
      ],
      "metadata": {
        "colab": {
          "base_uri": "https://localhost:8080/"
        },
        "id": "WMItvsy1fX8V",
        "outputId": "71f86a6c-8094-4d98-cf24-417764056c03"
      },
      "execution_count": null,
      "outputs": [
        {
          "output_type": "execute_result",
          "data": {
            "text/plain": [
              "False"
            ]
          },
          "metadata": {},
          "execution_count": 48
        }
      ]
    },
    {
      "cell_type": "code",
      "source": [
        "#삼항 연산자\n",
        "\n",
        "#참 if          조건식              else 거짓\n",
        "\n",
        "1 if 1 > 2 else 2 #맞지 않기에  else의 2가 나온다."
      ],
      "metadata": {
        "colab": {
          "base_uri": "https://localhost:8080/"
        },
        "id": "qq61vtK3fgHr",
        "outputId": "7413c5e3-701c-4466-90d8-a04f92b0d9d0"
      },
      "execution_count": null,
      "outputs": [
        {
          "output_type": "execute_result",
          "data": {
            "text/plain": [
              "2"
            ]
          },
          "metadata": {},
          "execution_count": 50
        }
      ]
    },
    {
      "cell_type": "code",
      "source": [
        "#p85 #1\n",
        "\n",
        "no = input('10~99 사이의 정수를 입력하세요>>>')\n",
        "\n",
        "print(f'십의 자리 : {no[0]}')\n",
        "print(f'일의 자리 : {no[1]}') #문자로 취급한다\n",
        "\n",
        "\n",
        "no = int(input('10~99 사이의 정수를 입력하세요>>>'))\n",
        "\n",
        "print(f'십의 자리 : {no//10}')\n",
        "print(f'일의 자리 : {no%10}') #계산으로 취급하기에 int 쓴다"
      ],
      "metadata": {
        "colab": {
          "base_uri": "https://localhost:8080/"
        },
        "id": "OXzaZUBhio87",
        "outputId": "6331385d-8171-4b90-abbc-c20afaff3eff"
      },
      "execution_count": null,
      "outputs": [
        {
          "output_type": "stream",
          "name": "stdout",
          "text": [
            "10~99 사이의 정수를 입력하세요>>>98\n",
            "십의 자리 : 9\n",
            "일의 자리 : 8\n",
            "10~99 사이의 정수를 입력하세요>>>98\n",
            "십의 자리 : 9\n",
            "일의 자리 : 8\n"
          ]
        }
      ]
    },
    {
      "cell_type": "code",
      "source": [
        "#p85 #2\n",
        "\n",
        "second= int(input('초를 입력하세요>>>'))\n",
        "\n",
        "print(f'변환 결과는 {second//3600}시간 {(second%3600)//60}분 {second%60}초 입니다.') \n",
        "\n",
        "#시간 60 60  3600   1시간은 3600\n"
      ],
      "metadata": {
        "colab": {
          "base_uri": "https://localhost:8080/"
        },
        "id": "KP9eJtkslj_a",
        "outputId": "1097575a-2f10-467c-ee87-ddc21d80723c"
      },
      "execution_count": null,
      "outputs": [
        {
          "output_type": "stream",
          "name": "stdout",
          "text": [
            "초를 입력하세요>>>3690\n",
            "변환 결과는 1시간 1분 30초 입니다.\n"
          ]
        }
      ]
    },
    {
      "cell_type": "code",
      "source": [
        "no = int(input('4자리 사원 번호를 입력하세요'))\n",
        "no_last = no % 10 \n",
        "is_am = no_last >=5\n",
        "\n",
        "print(f '근무시간은{(\"오전' if is_am  else '오후\")입니다.')} #작은 다운표 안에서는 큰 다운표를 쓴다."
      ],
      "metadata": {
        "colab": {
          "base_uri": "https://localhost:8080/",
          "height": 136
        },
        "id": "ejnIsDvMoUd1",
        "outputId": "26055047-9800-4984-b29d-ff888dc38dae"
      },
      "execution_count": null,
      "outputs": [
        {
          "output_type": "error",
          "ename": "SyntaxError",
          "evalue": "ignored",
          "traceback": [
            "\u001b[0;36m  File \u001b[0;32m\"<ipython-input-59-17a26ef1252f>\"\u001b[0;36m, line \u001b[0;32m5\u001b[0m\n\u001b[0;31m    print(f '근무시간은{(\"오전' if is_am  else '오후\")입니다.')} #작은 다운표 안에서는 큰 다운표를 쓴다.\u001b[0m\n\u001b[0m                       ^\u001b[0m\n\u001b[0;31mSyntaxError\u001b[0m\u001b[0;31m:\u001b[0m invalid syntax\n"
          ]
        }
      ]
    },
    {
      "cell_type": "code",
      "source": [
        "# Hw 1 \n",
        "#002\n",
        "print(\"Mary's cosmetics\")\n",
        "\n",
        "#003\n",
        "print(신씨가 소리질렀다. \"도둑이야\".)"
      ],
      "metadata": {
        "colab": {
          "base_uri": "https://localhost:8080/"
        },
        "id": "my1qrQGJqr1u",
        "outputId": "7205ff21-8e14-4eb0-c201-6e6c7ffd1216"
      },
      "execution_count": null,
      "outputs": [
        {
          "output_type": "stream",
          "name": "stdout",
          "text": [
            "Mary's cosmetics\n"
          ]
        }
      ]
    },
    {
      "cell_type": "code",
      "source": [
        ""
      ],
      "metadata": {
        "id": "YbdR42BbtcLJ"
      },
      "execution_count": null,
      "outputs": []
    },
    {
      "cell_type": "code",
      "source": [
        "#pythonDay4. ipynb\n",
        "# page 90\n",
        "\n",
        "#조건문 if 문\n",
        "# Ada lovelace\n",
        "\n",
        "# IF - 특정 조건을 만족하는지 여부에 따라 실행하는 코드가 달라져야 할 때 사용된다.\n",
        "\n",
        "a=5\n",
        "if a>0: \n",
        "  print('양수') #조건을 만족하면 실행 된다. #두칸을 띄어야 한다.(탭을 눌러야 한다.)\n",
        "\n",
        "if True:\n",
        "  print('양수') \n",
        "\n"
      ],
      "metadata": {
        "id": "C4UggXqpsNjc",
        "colab": {
          "base_uri": "https://localhost:8080/"
        },
        "outputId": "773cc7b3-eaaf-4e19-f5b1-63b8163e7c69"
      },
      "execution_count": null,
      "outputs": [
        {
          "output_type": "stream",
          "name": "stdout",
          "text": [
            "양수\n",
            "양수\n"
          ]
        }
      ]
    },
    {
      "cell_type": "code",
      "source": [
        "#p94\n",
        "\n",
        "# if - else\n",
        "\n",
        "a = -5\n",
        "if a>= 0:\n",
        "  print('양수')\n",
        "else:\n",
        "  print('음수')\n",
        "\n"
      ],
      "metadata": {
        "colab": {
          "base_uri": "https://localhost:8080/"
        },
        "id": "3jPoCeT-eM5L",
        "outputId": "a0c98dec-3eac-4738-8755-0ed41bfdb8bf"
      },
      "execution_count": null,
      "outputs": [
        {
          "output_type": "stream",
          "name": "stdout",
          "text": [
            "음수\n"
          ]
        }
      ]
    },
    {
      "cell_type": "code",
      "source": [
        "age = int(input('몇 살입니까?>>>'))\n",
        "if age >= 20:\n",
        "  print('성인')\n",
        "else:\n",
        "  print('미성년자')"
      ],
      "metadata": {
        "colab": {
          "base_uri": "https://localhost:8080/"
        },
        "id": "vm2zoyJtfa_7",
        "outputId": "c4d4f567-86b0-4ea6-b405-e00ce1021904"
      },
      "execution_count": null,
      "outputs": [
        {
          "output_type": "stream",
          "name": "stdout",
          "text": [
            "몇 살입니까?>>>28\n",
            "성인\n"
          ]
        }
      ]
    },
    {
      "cell_type": "code",
      "source": [
        "# if-elif\n",
        "\n",
        "important = 90\n",
        "\n",
        "if important >= 100:\n",
        "   print('상')\n",
        "else:\n",
        "  if important >=50:\n",
        "    print('중')\n",
        "  else:\n",
        "    print('하')\n"
      ],
      "metadata": {
        "colab": {
          "base_uri": "https://localhost:8080/"
        },
        "id": "UwMqKvdDf7oJ",
        "outputId": "a074ec03-0dd9-472e-af1a-8ce43478cb73"
      },
      "execution_count": null,
      "outputs": [
        {
          "output_type": "stream",
          "name": "stdout",
          "text": [
            "중\n"
          ]
        }
      ]
    },
    {
      "cell_type": "code",
      "source": [
        "important=40\n",
        "\n",
        "if important >= 100:\n",
        "  print('상')\n",
        "elif important >= 50:\n",
        "  print('중')\n",
        "else:\n",
        "  print('하')"
      ],
      "metadata": {
        "colab": {
          "base_uri": "https://localhost:8080/"
        },
        "id": "5Rjot-Y8g7hH",
        "outputId": "d8682830-f751-4163-df2b-da608766f0c2"
      },
      "execution_count": null,
      "outputs": [
        {
          "output_type": "stream",
          "name": "stdout",
          "text": [
            "하\n"
          ]
        }
      ]
    },
    {
      "cell_type": "code",
      "source": [
        "score=40\n",
        "\n",
        "if score >= 70:\n",
        "  print('A')\n",
        "elif score >= 60:\n",
        "  print('B')\n",
        "elif score >= 50:\n",
        "  print('C')\n",
        "else:\n",
        "  print('D')"
      ],
      "metadata": {
        "colab": {
          "base_uri": "https://localhost:8080/"
        },
        "id": "8kUOQrUzhqu2",
        "outputId": "f55df6e5-83e5-400a-846e-7797fa825760"
      },
      "execution_count": null,
      "outputs": [
        {
          "output_type": "stream",
          "name": "stdout",
          "text": [
            "D\n"
          ]
        }
      ]
    },
    {
      "cell_type": "code",
      "source": [
        "#p99 1번\n",
        "\n",
        "score = int(input('점수를 입력하세요>>>'))\n",
        "\n",
        "if score >= 90:\n",
        "  print(f'점수는 {score}}점이고, 학점은 A학점입니다.')\n",
        "elif score >= 80:\n",
        "  print('B')\n",
        "elif score >= 70:\n",
        "  print('C')\n",
        "elif score >=60:\n",
        "  print('D')\n",
        "else:\n",
        "  print('F')\n",
        "\n"
      ],
      "metadata": {
        "id": "MHl6cr6fiPJv"
      },
      "execution_count": null,
      "outputs": []
    },
    {
      "cell_type": "code",
      "source": [
        "#p99 1번\n",
        "\n",
        "score = int(input('점수를 입력하세요>>>'))\n",
        "\n",
        "if score >= 90:\n",
        "  hak = 'A'\n",
        "elif score >= 80:\n",
        "   hak = 'B'\n",
        "elif score >= 70:\n",
        "  hak = 'C'\n",
        "elif score >=60:\n",
        "   hak = 'D'\n",
        "else:\n",
        "   hak = 'F'\n",
        "\n",
        "print(f'점수는 {score}점이고, 학점은 {hak}학점입니다.')"
      ],
      "metadata": {
        "colab": {
          "base_uri": "https://localhost:8080/"
        },
        "id": "XnBl7O46l5ve",
        "outputId": "022bc16d-93c6-4155-fe20-4934176acbdc"
      },
      "execution_count": null,
      "outputs": [
        {
          "output_type": "stream",
          "name": "stdout",
          "text": [
            "점수를 입력하세요>>>50\n",
            "점수는 50점이고, 학점은 F학점입니다.\n"
          ]
        }
      ]
    },
    {
      "cell_type": "code",
      "source": [
        "#p99 #2 #\n",
        "\n",
        "num = int(input('정수를 입력하세요>>>'))\n",
        "\n",
        "if num % 3 == 0:\n",
        "  print(f'{num}은 3의 배수 입니다.')\n",
        "else:\n",
        "  print(f'{num}은 3의 배수가 아닙니다.')"
      ],
      "metadata": {
        "colab": {
          "base_uri": "https://localhost:8080/"
        },
        "id": "crMOhLt-mo2A",
        "outputId": "09f34894-5065-43f4-9e69-7acccfb255a6"
      },
      "execution_count": null,
      "outputs": [
        {
          "output_type": "stream",
          "name": "stdout",
          "text": [
            "정수를 입력하세요>>>15\n",
            "15은 3의 배수 입니다.\n"
          ]
        }
      ]
    },
    {
      "cell_type": "code",
      "source": [
        "#p99 #3 \n",
        "# =이라는 개념은 대입이다 a=1, ==이라는 개념은 비교다. 같니 or 안 같니?! a==a(o) a==b(x)\n",
        "# no, num이나 변수명이다 별 의미가 없다.\n",
        "\n",
        "no1= int(input('정수1 입력>>>'))\n",
        "no2= int(input('정수2 입력>>>'))\n",
        "no3= int(input('정수3 입력>>>'))\n",
        "\n",
        "print(f'가장 큰 수는{max(no1,no2,no3)}입니다.')\n",
        "\n"
      ],
      "metadata": {
        "colab": {
          "base_uri": "https://localhost:8080/"
        },
        "id": "fUBbgApypNpp",
        "outputId": "2e2f289e-daeb-47a1-9120-318e8ab2bdcb"
      },
      "execution_count": null,
      "outputs": [
        {
          "output_type": "stream",
          "name": "stdout",
          "text": [
            "정수1 입력>>>3\n",
            "정수2 입력>>>3\n",
            "정수3 입력>>>2\n",
            "가장 큰 수는3입니다.\n"
          ]
        }
      ]
    },
    {
      "cell_type": "code",
      "source": [
        "#p99 #4\n",
        "\n",
        "car = input('차량번호를 입력하세요>>>')\n",
        "\n",
        "no = car[-1]\n",
        "\n",
        "print(no)\n",
        "\n",
        "\n",
        "#while True: \n",
        "#<<  print('Hello python') # 무한으로 나온다\n",
        "\n",
        "\n",
        "#주말에 파이썬, 저널을 읽기\n",
        "\n"
      ],
      "metadata": {
        "colab": {
          "base_uri": "https://localhost:8080/"
        },
        "id": "PMt8u24msCk7",
        "outputId": "80803fd1-d74b-4db4-d589-57a6436a6824"
      },
      "execution_count": null,
      "outputs": [
        {
          "output_type": "stream",
          "name": "stdout",
          "text": [
            "차량번호를 입력하세요>>>237가1234\n",
            "4\n"
          ]
        }
      ]
    },
    {
      "cell_type": "code",
      "source": [
        "#반복문 \n",
        "# while - 반복 횟수를 정확히 모를 때 , 해 질 때까지 온동장을 돌자\n",
        "\n",
        "# for - 반복 횟수를 정확히 알 때 (*****) , 운동장을 10바퀴 돌자\n",
        "\n",
        "n=1\n",
        "while n <= 10:\n",
        "  print(f'{n}:hello world')\n",
        "  n+=1\n"
      ],
      "metadata": {
        "colab": {
          "base_uri": "https://localhost:8080/"
        },
        "id": "vUUVi6razNea",
        "outputId": "5a8e1ac9-7d93-44bb-ec7b-102ed857f430"
      },
      "execution_count": null,
      "outputs": [
        {
          "output_type": "stream",
          "name": "stdout",
          "text": [
            "1:hello world\n",
            "2:hello world\n",
            "3:hello world\n",
            "4:hello world\n",
            "5:hello world\n",
            "6:hello world\n",
            "7:hello world\n",
            "8:hello world\n",
            "9:hello world\n",
            "10:hello world\n"
          ]
        }
      ]
    },
    {
      "cell_type": "code",
      "source": [
        "n=10\n",
        "\n",
        "while n>=1:\n",
        "  print(n)\n",
        "  n -=1"
      ],
      "metadata": {
        "colab": {
          "base_uri": "https://localhost:8080/"
        },
        "id": "wpYqLFGj10Cq",
        "outputId": "53a08f38-d5b8-41fe-a139-60ab33b8797f"
      },
      "execution_count": null,
      "outputs": [
        {
          "output_type": "stream",
          "name": "stdout",
          "text": [
            "10\n",
            "9\n",
            "8\n",
            "7\n",
            "6\n",
            "5\n",
            "4\n",
            "3\n",
            "2\n",
            "1\n"
          ]
        }
      ]
    },
    {
      "cell_type": "code",
      "source": [
        "#p106\n",
        "\n",
        "my_list=[]\n",
        "\n",
        "n= int(input('정수를 입력하세요(종료는 0입니다.)>>>'))\n",
        "\n",
        "while n != 0:\n",
        "  my_list.append(n)\n",
        "  n= int(input('정수를 입력하세요(종료는 0입니다.)>>>' ))\n",
        "\n",
        "print(my_list)"
      ],
      "metadata": {
        "colab": {
          "base_uri": "https://localhost:8080/"
        },
        "id": "skkpZEvc2a1N",
        "outputId": "18f453f8-18f4-4ab9-c8fd-78167a6906cf"
      },
      "execution_count": null,
      "outputs": [
        {
          "output_type": "stream",
          "name": "stdout",
          "text": [
            "정수를 입력하세요(종료는 0입니다.>>>2\n",
            "정수를 입력하세요(종료는 0입니다. >>>5\n",
            "정수를 입력하세요(종료는 0입니다. >>>3\n",
            "정수를 입력하세요(종료는 0입니다. >>>0\n",
            "[2, 5, 3]\n"
          ]
        }
      ]
    },
    {
      "cell_type": "code",
      "source": [
        "day = 1\n",
        "while day <= 5:\n",
        "  print(day,'일차')\n",
        "  day +=1"
      ],
      "metadata": {
        "colab": {
          "base_uri": "https://localhost:8080/"
        },
        "id": "bIyE2Rmc3ogl",
        "outputId": "6401a809-a03a-480c-e455-fc3541d64aa3"
      },
      "execution_count": null,
      "outputs": [
        {
          "output_type": "stream",
          "name": "stdout",
          "text": [
            "1 일차\n",
            "2 일차\n",
            "3 일차\n",
            "4 일차\n",
            "5 일차\n"
          ]
        }
      ]
    },
    {
      "cell_type": "code",
      "source": [
        "day = 1\n",
        "while day <= 5:\n",
        "  hour=1\n",
        "  while hour <=3: \n",
        "    print(day,'일차',hour,'교시')\n",
        "    hour +=1\n",
        "  day +=1"
      ],
      "metadata": {
        "colab": {
          "base_uri": "https://localhost:8080/"
        },
        "id": "JYix64ay39KX",
        "outputId": "5f5202d7-d2d5-4a7c-ff92-06482e3c02fb"
      },
      "execution_count": null,
      "outputs": [
        {
          "output_type": "stream",
          "name": "stdout",
          "text": [
            "1 일차 1 교시\n",
            "1 일차 2 교시\n",
            "1 일차 3 교시\n",
            "2 일차 1 교시\n",
            "2 일차 2 교시\n",
            "2 일차 3 교시\n",
            "3 일차 1 교시\n",
            "3 일차 2 교시\n",
            "3 일차 3 교시\n",
            "4 일차 1 교시\n",
            "4 일차 2 교시\n",
            "4 일차 3 교시\n",
            "5 일차 1 교시\n",
            "5 일차 2 교시\n",
            "5 일차 3 교시\n"
          ]
        }
      ]
    },
    {
      "cell_type": "code",
      "source": [
        "dan = 2\n",
        "while dan <= 9:\n",
        "  no = 1\n",
        "  while no <=9:\n",
        "    print(f'{dan}*{no}={dan*no}')\n",
        "    no += 1\n",
        "  dan += 1"
      ],
      "metadata": {
        "colab": {
          "base_uri": "https://localhost:8080/"
        },
        "id": "Z8SlMiJx4-TE",
        "outputId": "893cac06-303f-47d8-d508-be2a5a9ed35c"
      },
      "execution_count": null,
      "outputs": [
        {
          "output_type": "stream",
          "name": "stdout",
          "text": [
            "2*1=2\n",
            "2*2=4\n",
            "2*3=6\n",
            "2*4=8\n",
            "2*5=10\n",
            "2*6=12\n",
            "2*7=14\n",
            "2*8=16\n",
            "2*9=18\n",
            "3*1=3\n",
            "3*2=6\n",
            "3*3=9\n",
            "3*4=12\n",
            "3*5=15\n",
            "3*6=18\n",
            "3*7=21\n",
            "3*8=24\n",
            "3*9=27\n",
            "4*1=4\n",
            "4*2=8\n",
            "4*3=12\n",
            "4*4=16\n",
            "4*5=20\n",
            "4*6=24\n",
            "4*7=28\n",
            "4*8=32\n",
            "4*9=36\n",
            "5*1=5\n",
            "5*2=10\n",
            "5*3=15\n",
            "5*4=20\n",
            "5*5=25\n",
            "5*6=30\n",
            "5*7=35\n",
            "5*8=40\n",
            "5*9=45\n",
            "6*1=6\n",
            "6*2=12\n",
            "6*3=18\n",
            "6*4=24\n",
            "6*5=30\n",
            "6*6=36\n",
            "6*7=42\n",
            "6*8=48\n",
            "6*9=54\n",
            "7*1=7\n",
            "7*2=14\n",
            "7*3=21\n",
            "7*4=28\n",
            "7*5=35\n",
            "7*6=42\n",
            "7*7=49\n",
            "7*8=56\n",
            "7*9=63\n",
            "8*1=8\n",
            "8*2=16\n",
            "8*3=24\n",
            "8*4=32\n",
            "8*5=40\n",
            "8*6=48\n",
            "8*7=56\n",
            "8*8=64\n",
            "8*9=72\n",
            "9*1=9\n",
            "9*2=18\n",
            "9*3=27\n",
            "9*4=36\n",
            "9*5=45\n",
            "9*6=54\n",
            "9*7=63\n",
            "9*8=72\n",
            "9*9=81\n"
          ]
        }
      ]
    },
    {
      "cell_type": "code",
      "source": [
        "#p111 #1\n",
        "\n",
        "no= int(input('정수를 입력하세요>>>'))\n",
        "\n",
        "if no <= 0:\n",
        "  print('잘못 된 입력입니다.')\n",
        "else: \n",
        "  while no >= 1:\n",
        "    print(f'{no}번째 Hello')\n",
        "    no -= 1"
      ],
      "metadata": {
        "colab": {
          "base_uri": "https://localhost:8080/"
        },
        "id": "G-YZTJd66ZNs",
        "outputId": "12ec95c7-0f1f-4309-b115-3663d33e7689"
      },
      "execution_count": null,
      "outputs": [
        {
          "output_type": "stream",
          "name": "stdout",
          "text": [
            "정수를 입력하세요>>>5\n",
            "5번째 Hello\n",
            "4번째 Hello\n",
            "3번째 Hello\n",
            "2번째 Hello\n",
            "1번째 Hello\n"
          ]
        }
      ]
    },
    {
      "cell_type": "code",
      "source": [
        "# 중요\n",
        "no= int(input('정수를 입력하세요>>>'))\n",
        "cnt = 1 #cnt가 변수명이다 카운드\n",
        "\n",
        "if no <= 0:\n",
        "  print('잘못 된 입력입니다.')\n",
        "else: \n",
        "  while cnt <= no:\n",
        "    print(f'{cnt}번째 Hello')\n",
        "    cnt += 1"
      ],
      "metadata": {
        "colab": {
          "base_uri": "https://localhost:8080/"
        },
        "id": "Qyeji57-8f-I",
        "outputId": "862690a9-c496-49de-b213-3392c1e51bfb"
      },
      "execution_count": null,
      "outputs": [
        {
          "output_type": "stream",
          "name": "stdout",
          "text": [
            "정수를 입력하세요>>>5\n",
            "1번째 Hello\n",
            "2번째 Hello\n",
            "3번째 Hello\n",
            "4번째 Hello\n",
            "5번째 Hello\n"
          ]
        }
      ]
    },
    {
      "cell_type": "code",
      "source": [
        "#p111 #2\n",
        "\n",
        "\n",
        "n = 1\n",
        "while n<= 100:\n",
        "  if n % 7 ==0:\n",
        "     print(n)\n",
        "  n +=1\n",
        "\n",
        " "
      ],
      "metadata": {
        "colab": {
          "base_uri": "https://localhost:8080/"
        },
        "id": "Ia_T01sm-VDR",
        "outputId": "e4de82c0-dddd-42f0-b823-a8a173cde5f3"
      },
      "execution_count": null,
      "outputs": [
        {
          "output_type": "stream",
          "name": "stdout",
          "text": [
            "7\n",
            "14\n",
            "21\n",
            "28\n",
            "35\n",
            "42\n",
            "49\n",
            "56\n",
            "63\n",
            "70\n",
            "77\n",
            "84\n",
            "91\n",
            "98\n"
          ]
        }
      ]
    },
    {
      "cell_type": "code",
      "source": [
        "# p116 for문\n",
        "\n",
        "for n in[1,2,3]:\n",
        "  print(n)\n",
        "\n"
      ],
      "metadata": {
        "colab": {
          "base_uri": "https://localhost:8080/"
        },
        "id": "4JdtEvqFKjp9",
        "outputId": "c5048858-779e-485d-8d09-aff186a57637"
      },
      "execution_count": null,
      "outputs": [
        {
          "output_type": "stream",
          "name": "stdout",
          "text": [
            "1\n",
            "2\n",
            "3\n"
          ]
        }
      ]
    },
    {
      "cell_type": "code",
      "source": [
        "n =1\n",
        "while n in [1,2,3]:\n",
        "  print(n)\n",
        "  n+=1"
      ],
      "metadata": {
        "colab": {
          "base_uri": "https://localhost:8080/"
        },
        "id": "PHq1S8X4LUXa",
        "outputId": "424b56ba-ad46-4824-8529-591d4880a28d"
      },
      "execution_count": null,
      "outputs": [
        {
          "output_type": "stream",
          "name": "stdout",
          "text": [
            "1\n",
            "2\n",
            "3\n"
          ]
        }
      ]
    },
    {
      "cell_type": "code",
      "source": [
        "# 반복 가능 객체(컬랙션)\n",
        "# 시퀀스 자료형 - 문자열 리스트 튜플 range\n",
        "# 비 시퀀스 자료형 - 셋, 딕셔너리 (순서가 없다.)\n",
        "\n",
        "for ch in 'Hello':\n",
        "  print(ch)\n",
        "\n"
      ],
      "metadata": {
        "colab": {
          "base_uri": "https://localhost:8080/"
        },
        "id": "BjlHyomKMJJq",
        "outputId": "6b28c61a-e039-4716-bc7c-28553700dc8b"
      },
      "execution_count": null,
      "outputs": [
        {
          "output_type": "stream",
          "name": "stdout",
          "text": [
            "H\n",
            "e\n",
            "l\n",
            "l\n",
            "o\n"
          ]
        }
      ]
    },
    {
      "cell_type": "code",
      "source": [
        "#for문 리스트\n",
        "for item in ['가위','바위','보']:\n",
        "  print(item)"
      ],
      "metadata": {
        "colab": {
          "base_uri": "https://localhost:8080/"
        },
        "id": "8TgJUKtuNEsY",
        "outputId": "91825186-56e2-4a8e-ecf2-f9523be534bd"
      },
      "execution_count": null,
      "outputs": [
        {
          "output_type": "stream",
          "name": "stdout",
          "text": [
            "가위\n",
            "바위\n",
            "보\n"
          ]
        }
      ]
    },
    {
      "cell_type": "code",
      "source": [
        ""
      ],
      "metadata": {
        "id": "c8_l09fWNpGL"
      },
      "execution_count": null,
      "outputs": []
    },
    {
      "cell_type": "code",
      "source": [
        "for season in ('가위','바위','보'):\n",
        "  print(season)\n",
        "  "
      ],
      "metadata": {
        "colab": {
          "base_uri": "https://localhost:8080/"
        },
        "id": "7L_oFYkGNdGG",
        "outputId": "9d47b2d7-1c92-4325-cea2-cac583e2f559"
      },
      "execution_count": null,
      "outputs": [
        {
          "output_type": "stream",
          "name": "stdout",
          "text": [
            "가위\n",
            "바위\n",
            "보\n"
          ]
        }
      ]
    },
    {
      "cell_type": "code",
      "source": [
        "#for문 과 range()\n",
        "\n",
        "#range(5) #0부터 5미만까지 생략\n",
        "\n",
        "range(2,10) #2부터 10미만 즉 9까지"
      ],
      "metadata": {
        "colab": {
          "base_uri": "https://localhost:8080/"
        },
        "id": "u4Zvr1kjN2yj",
        "outputId": "ef11af3a-7010-4f24-a6a7-83c2f65a13ba"
      },
      "execution_count": null,
      "outputs": [
        {
          "output_type": "execute_result",
          "data": {
            "text/plain": [
              "range(2, 10)"
            ]
          },
          "metadata": {},
          "execution_count": 14
        }
      ]
    },
    {
      "cell_type": "code",
      "source": [
        "print(list(range(5)))"
      ],
      "metadata": {
        "colab": {
          "base_uri": "https://localhost:8080/"
        },
        "id": "sWOwZnVzOYF0",
        "outputId": "9c27cb02-2cc2-4822-b989-f160ca27823a"
      },
      "execution_count": null,
      "outputs": [
        {
          "output_type": "stream",
          "name": "stdout",
          "text": [
            "[0, 1, 2, 3, 4]\n"
          ]
        }
      ]
    },
    {
      "cell_type": "code",
      "source": [
        "print(list(range(2,10)))"
      ],
      "metadata": {
        "colab": {
          "base_uri": "https://localhost:8080/"
        },
        "id": "OIMoVueUOkeG",
        "outputId": "d1296cf3-d263-472a-9506-cfdd5db280ab"
      },
      "execution_count": null,
      "outputs": [
        {
          "output_type": "stream",
          "name": "stdout",
          "text": [
            "[2, 3, 4, 5, 6, 7, 8, 9]\n"
          ]
        }
      ]
    },
    {
      "cell_type": "code",
      "source": [
        "for n in [1,2,3,4,5,6,7,8,9,10]:\n",
        "  print(n)"
      ],
      "metadata": {
        "colab": {
          "base_uri": "https://localhost:8080/"
        },
        "id": "IPj8ZOIsOrwb",
        "outputId": "3de43c40-4327-4850-8d9e-f280afa42a62"
      },
      "execution_count": null,
      "outputs": [
        {
          "output_type": "stream",
          "name": "stdout",
          "text": [
            "1\n",
            "2\n",
            "3\n",
            "4\n",
            "5\n",
            "6\n",
            "7\n",
            "8\n",
            "9\n",
            "10\n"
          ]
        }
      ]
    },
    {
      "cell_type": "code",
      "source": [
        "for n in range(1,11):\n",
        "  print(n)"
      ],
      "metadata": {
        "colab": {
          "base_uri": "https://localhost:8080/"
        },
        "id": "cJFLbmYGPACp",
        "outputId": "89072e69-32de-4426-e6d1-2e76080c9797"
      },
      "execution_count": null,
      "outputs": [
        {
          "output_type": "stream",
          "name": "stdout",
          "text": [
            "1\n",
            "2\n",
            "3\n",
            "4\n",
            "5\n",
            "6\n",
            "7\n",
            "8\n",
            "9\n",
            "10\n"
          ]
        }
      ]
    },
    {
      "cell_type": "code",
      "source": [
        "# for문 과 set #얘는 순서가 없다 뒤죽 박죽 나온다.\n",
        "\n",
        "for item in {'가위','바위','보'}:\n",
        "  print(item)"
      ],
      "metadata": {
        "colab": {
          "base_uri": "https://localhost:8080/"
        },
        "id": "aLinP6coPKdh",
        "outputId": "c0350ab5-2f8d-4d54-a994-46ad147a2aa2"
      },
      "execution_count": null,
      "outputs": [
        {
          "output_type": "stream",
          "name": "stdout",
          "text": [
            "가위\n",
            "보\n",
            "바위\n"
          ]
        }
      ]
    },
    {
      "cell_type": "code",
      "source": [
        "# for문 과 딕셔너리\n",
        "\n",
        "person = {\n",
        "    'name':'에밀리',\n",
        "    'age':20\n",
        "}\n",
        "\n",
        "for item in person:\n",
        "  print(item,person[item])"
      ],
      "metadata": {
        "colab": {
          "base_uri": "https://localhost:8080/"
        },
        "id": "82m641qZPcGa",
        "outputId": "bb1873f4-e2e9-478b-bb6c-5a5df93b2e76"
      },
      "execution_count": null,
      "outputs": [
        {
          "output_type": "stream",
          "name": "stdout",
          "text": [
            "name 에밀리\n",
            "age 20\n"
          ]
        }
      ]
    },
    {
      "cell_type": "code",
      "source": [
        "n = int(input('임의의 양수를 입력하세요>>>'))\n",
        "\n",
        "sum=0\n",
        "for no in range(1,n+1):\n",
        "  sum+= no\n",
        "print(sum)\n",
        "\n",
        "\n",
        "\n",
        "\n"
      ],
      "metadata": {
        "colab": {
          "base_uri": "https://localhost:8080/"
        },
        "id": "L0oVupF5Qaz1",
        "outputId": "7fc1b1f4-756d-4ae9-efaa-ca45de5a1bf3"
      },
      "execution_count": null,
      "outputs": [
        {
          "output_type": "stream",
          "name": "stdout",
          "text": [
            "임의의 양수를 입력하세요>>>3\n",
            "6\n"
          ]
        }
      ]
    },
    {
      "cell_type": "code",
      "source": [
        "no = int(input('몇 개의 과일을 보관할까요?>>>'))\n",
        "\n",
        "basket=[]\n",
        "\n",
        "for i in range(no):\n",
        "  print(i)"
      ],
      "metadata": {
        "id": "ncRKcgibR92s",
        "colab": {
          "base_uri": "https://localhost:8080/"
        },
        "outputId": "12a124a5-309e-48d3-cc6f-ad4d7728b927"
      },
      "execution_count": null,
      "outputs": [
        {
          "output_type": "stream",
          "name": "stdout",
          "text": [
            "몇 개의 과일을 보관할까요?>>>10\n",
            "0\n",
            "1\n",
            "2\n",
            "3\n",
            "4\n",
            "5\n",
            "6\n",
            "7\n",
            "8\n",
            "9\n"
          ]
        }
      ]
    },
    {
      "cell_type": "code",
      "source": [
        "# p141 #1\n",
        "\n",
        "coin = 10000\n",
        "while True:\n",
        "  print(f'현재 {coin}원이 있습니다.')\n",
        "  \n",
        "  if coin == 0:\n",
        "    break\n",
        "\n",
        "\n",
        "  pay = int(input('사용 할 금액 입력>>>'))\n",
        "\n",
        "  if pay <= 0:\n",
        "    print('0이하의 금액은 사용 할 수 없습니다.')\n",
        "  elif pay > money:\n",
        "    print(f'{pay-coin}원이 부족합니다.')\n",
        "  else:\n",
        "    coin-=pay\n"
      ],
      "metadata": {
        "id": "bP1GVit-Xjp1"
      },
      "execution_count": null,
      "outputs": []
    },
    {
      "cell_type": "code",
      "source": [
        "#2\n",
        "while True:\n",
        "  score = int(input('이번 영화의 평점을 입력하세요>>>'))\n",
        "\n",
        "  if score > 5 or core<=0:\n",
        "    print('평점은 1~5사이만 입력 할 수 있습니다.')\n",
        "  elif score <= 0:\n",
        "    print('평점은 1~5사이만 입력 할 수 있습니다.')\n",
        "  else:\n",
        "    print('평점: ','★'* score)\n",
        "    break\n"
      ],
      "metadata": {
        "id": "yjLmoznRa0GA"
      },
      "execution_count": null,
      "outputs": []
    },
    {
      "cell_type": "code",
      "source": [
        "# p192 반환값 #호출 한 지점으로 리턴 값이 돌아온다\n",
        "\n",
        "def address():\n",
        "  str = '우편번호 12345\\n'\n",
        "  str+= '서울시 영등포구'\n",
        "  return str\n",
        "\n",
        "print(address())"
      ],
      "metadata": {
        "id": "zdIjsWXRctj6",
        "colab": {
          "base_uri": "https://localhost:8080/"
        },
        "outputId": "fb9d452e-a0c3-4478-ef05-91a3d0709f1d"
      },
      "execution_count": 2,
      "outputs": [
        {
          "output_type": "stream",
          "name": "stdout",
          "text": [
            "우편번호 12345\n",
            "서울시 영등포구\n"
          ]
        }
      ]
    },
    {
      "cell_type": "code",
      "source": [
        "#  가변 매개 변수\n",
        "\n",
        "def calculator(*args):\n",
        "  return(sum(args), sum(args)/len(args), max(args), min(args)) #1개의 튜플로 리턴이 된다. 4개가 나가는 것이 아니다.\n",
        "\n",
        "a,b,c,d= calculator(1,2,3,4,5)\n",
        "print(a)\n",
        "print(b)\n",
        "print(c)\n",
        "print(d)"
      ],
      "metadata": {
        "colab": {
          "base_uri": "https://localhost:8080/"
        },
        "id": "X1AGPE5AfGYs",
        "outputId": "f5feefd3-671c-4c5e-a3bd-716311e128e8"
      },
      "execution_count": 5,
      "outputs": [
        {
          "output_type": "stream",
          "name": "stdout",
          "text": [
            "15\n",
            "3.0\n",
            "5\n",
            "1\n"
          ]
        }
      ]
    },
    {
      "cell_type": "code",
      "source": [
        "def charge(energy):\n",
        "  if energy<0:\n",
        "    print('0보다 작은 에너지는 충전 안 됨')\n",
        "    return #함수를 그냥 종료 시킨다.\n",
        "  print('에너지 충전 됨')\n",
        "charge(1)"
      ],
      "metadata": {
        "colab": {
          "base_uri": "https://localhost:8080/"
        },
        "id": "2wzmTkRNgCKk",
        "outputId": "c9166e3b-6e66-4d51-b53d-810ec8ef467f"
      },
      "execution_count": 7,
      "outputs": [
        {
          "output_type": "stream",
          "name": "stdout",
          "text": [
            "에너지 충전 됨\n"
          ]
        }
      ]
    },
    {
      "cell_type": "code",
      "source": [
        "def charge(energy):\n",
        "  if energy<0:\n",
        "    print('0보다 작은 에너지는 충전 안 됨')\n",
        "    return\n",
        "  print('에너지 충전 됨')\n",
        "charge(-1)"
      ],
      "metadata": {
        "colab": {
          "base_uri": "https://localhost:8080/"
        },
        "id": "ivWUveq4g7Zf",
        "outputId": "e0837a19-2438-4047-fcc0-9051bfe103da"
      },
      "execution_count": 9,
      "outputs": [
        {
          "output_type": "stream",
          "name": "stdout",
          "text": [
            "0보다 작은 에너지는 충전 안 됨\n"
          ]
        }
      ]
    },
    {
      "cell_type": "code",
      "source": [
        "#지역변수 local variable (*****) 와 전역변수 global variable\n",
        "\n",
        "# 잘 모르겠으면 지역 변수를 쓰자 \n",
        "#함수 안에 서만 쓰는 것은 안에만 적용이 된다.\n",
        "\n",
        "def f():\n",
        "  a=10\n",
        "  print(f'f() 내부: {a}')\n",
        "\n",
        "f()\n",
        "\n",
        "print(a) #15 나오면 잘못 인식한거다\n",
        "\n",
        "\n",
        "#함수 안에서 선언한 변수(지역변수)는 함수 안에서만 의미가 있다."
      ],
      "metadata": {
        "colab": {
          "base_uri": "https://localhost:8080/"
        },
        "id": "1onrD80ShFhw",
        "outputId": "3f83c52a-2835-4387-d2ea-87fca7181b18"
      },
      "execution_count": 13,
      "outputs": [
        {
          "output_type": "stream",
          "name": "stdout",
          "text": [
            "f() 내부: 10\n",
            "15\n"
          ]
        }
      ]
    },
    {
      "cell_type": "code",
      "source": [
        "b = 10   #함수 밖에서 적용 했기에 #전역 변수\n",
        "def f():\n",
        "  print(f'f() 내부:{b}')\n",
        "\n",
        "f()\n",
        "print(b)"
      ],
      "metadata": {
        "colab": {
          "base_uri": "https://localhost:8080/"
        },
        "id": "ndxdtBRri3vr",
        "outputId": "257fff06-2091-4d36-8a46-fb7a7173502d"
      },
      "execution_count": 15,
      "outputs": [
        {
          "output_type": "stream",
          "name": "stdout",
          "text": [
            "f() 내부:10\n",
            "10\n"
          ]
        }
      ]
    },
    {
      "cell_type": "code",
      "source": [
        "\n",
        "\n",
        "def vending_machine(money):\n",
        "  price=700 #한잔 가격 700원\n",
        "\n",
        "  cups= money//price # 몫 만 필요하다.  3000//700 ->>4\n",
        "  for drink in range(cups +1):\n",
        "    coin = money - price * drink\n",
        "    print(f'음료수={drink}개, 잔돈={coin}원') # cup 4잔  coin 200\n",
        "\n",
        "\n",
        "vending_machine(3000)"
      ],
      "metadata": {
        "colab": {
          "base_uri": "https://localhost:8080/"
        },
        "id": "-Lpu1aikjY1I",
        "outputId": "64991f06-b1af-4985-acfc-fb0f63d2ea0c"
      },
      "execution_count": 19,
      "outputs": [
        {
          "output_type": "stream",
          "name": "stdout",
          "text": [
            "음료수=0개, 잔돈=3000원\n",
            "음료수=1개, 잔돈=2300원\n",
            "음료수=2개, 잔돈=1600원\n",
            "음료수=3개, 잔돈=900원\n",
            "음료수=4개, 잔돈=200원\n"
          ]
        }
      ]
    },
    {
      "cell_type": "code",
      "source": [
        " #??????\n",
        "\n",
        "def get_average(marks):\n",
        "  # 평균 = 합계/갯수\n",
        "  sum=0\n",
        "  for mark in marks\n",
        "    marks[mark]\n",
        "  avg = sum / len(marks)\n",
        "  return avg\n",
        "\n",
        "\n",
        "marks={'국어':90,'영어':80,'수학':85}\n",
        "average=get_average(marks)\n",
        "print('평균은 ()점입니다.',format(average))"
      ],
      "metadata": {
        "colab": {
          "base_uri": "https://localhost:8080/"
        },
        "id": "tA3Hax55oiKS",
        "outputId": "2b177b22-693b-43eb-de9b-8b67c1cd45ee"
      },
      "execution_count": 28,
      "outputs": [
        {
          "output_type": "stream",
          "name": "stdout",
          "text": [
            "평균은 ()점입니다. 0.0\n"
          ]
        }
      ]
    },
    {
      "cell_type": "code",
      "source": [
        "marks={'국어':90,'영어':80,'수학':85}\n",
        "for score in marks:\n",
        "  print(score)"
      ],
      "metadata": {
        "colab": {
          "base_uri": "https://localhost:8080/"
        },
        "id": "pz0SrTBiuQPp",
        "outputId": "56b5a985-461a-4284-a2c5-353aa49a8b6a"
      },
      "execution_count": 22,
      "outputs": [
        {
          "output_type": "stream",
          "name": "stdout",
          "text": [
            "국어\n",
            "영어\n",
            "수학\n"
          ]
        }
      ]
    },
    {
      "cell_type": "code",
      "source": [
        "marks={'국어':90,'영어':80,'수학':85}\n",
        "for score in marks:\n",
        "  print(marks[score])"
      ],
      "metadata": {
        "colab": {
          "base_uri": "https://localhost:8080/"
        },
        "id": "q5b1nJbjubb3",
        "outputId": "fbd6577e-06c5-4fe9-cff7-05f5ffdd6ae2"
      },
      "execution_count": 29,
      "outputs": [
        {
          "output_type": "stream",
          "name": "stdout",
          "text": [
            "90\n",
            "80\n",
            "85\n"
          ]
        }
      ]
    },
    {
      "cell_type": "code",
      "source": [
        "#module 과  import\n",
        "#module = .py 모든 파이썬 파일은 모듈이다.\n",
        "\n",
        "#"
      ],
      "metadata": {
        "id": "Dik0jJFgwLG9"
      },
      "execution_count": null,
      "outputs": []
    }
  ]
}